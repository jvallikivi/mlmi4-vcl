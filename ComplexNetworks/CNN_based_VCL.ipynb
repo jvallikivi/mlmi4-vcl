{
  "cells": [
    {
      "cell_type": "markdown",
      "metadata": {
        "id": "b9PaA-oFq8TB"
      },
      "source": [
        "In this notebook, I use TyXe and Pyro to implement VCL on CNNs. The dataset is split MNIST dataset. "
      ]
    },
    {
      "cell_type": "code",
      "execution_count": null,
      "metadata": {
        "id": "9lRp057lzV0r"
      },
      "outputs": [],
      "source": [
        "device = \"cuda\" "
      ]
    },
    {
      "cell_type": "markdown",
      "metadata": {
        "id": "pMSUQQ_Trd8o"
      },
      "source": [
        "## install packages"
      ]
    },
    {
      "cell_type": "code",
      "execution_count": null,
      "metadata": {
        "colab": {
          "base_uri": "https://localhost:8080/"
        },
        "id": "SNVzCIs-rh8k",
        "outputId": "0ae7ace0-30cb-4656-ec62-2f925d9e063f"
      },
      "outputs": [
        {
          "output_type": "stream",
          "name": "stdout",
          "text": [
            "Looking in indexes: https://pypi.org/simple, https://us-python.pkg.dev/colab-wheels/public/simple/\n",
            "Collecting pyro-ppl\n",
            "  Downloading pyro_ppl-1.8.4-py3-none-any.whl (730 kB)\n",
            "\u001b[2K     \u001b[90m━━━━━━━━━━━━━━━━━━━━━━━━━━━━━━━━━━━━━━\u001b[0m \u001b[32m730.7/730.7 KB\u001b[0m \u001b[31m19.6 MB/s\u001b[0m eta \u001b[36m0:00:00\u001b[0m\n",
            "\u001b[?25hRequirement already satisfied: tqdm>=4.36 in /usr/local/lib/python3.8/dist-packages (from pyro-ppl) (4.64.1)\n",
            "Requirement already satisfied: opt-einsum>=2.3.2 in /usr/local/lib/python3.8/dist-packages (from pyro-ppl) (3.3.0)\n",
            "Collecting pyro-api>=0.1.1\n",
            "  Downloading pyro_api-0.1.2-py3-none-any.whl (11 kB)\n",
            "Requirement already satisfied: numpy>=1.7 in /usr/local/lib/python3.8/dist-packages (from pyro-ppl) (1.21.6)\n",
            "Requirement already satisfied: torch>=1.11.0 in /usr/local/lib/python3.8/dist-packages (from pyro-ppl) (1.13.1+cu116)\n",
            "Requirement already satisfied: typing-extensions in /usr/local/lib/python3.8/dist-packages (from torch>=1.11.0->pyro-ppl) (4.5.0)\n",
            "Installing collected packages: pyro-api, pyro-ppl\n",
            "Successfully installed pyro-api-0.1.2 pyro-ppl-1.8.4\n",
            "Cloning into 'TyXe'...\n",
            "remote: Enumerating objects: 363, done.\u001b[K\n",
            "remote: Counting objects: 100% (65/65), done.\u001b[K\n",
            "remote: Compressing objects: 100% (17/17), done.\u001b[K\n",
            "remote: Total 363 (delta 49), reused 48 (delta 48), pack-reused 298\u001b[K\n",
            "Receiving objects: 100% (363/363), 4.19 MiB | 19.24 MiB/s, done.\n",
            "Resolving deltas: 100% (173/173), done.\n"
          ]
        }
      ],
      "source": [
        "! pip install pyro-ppl\n",
        "! git clone https://github.com/TyXe-BDL/TyXe.git"
      ]
    },
    {
      "cell_type": "markdown",
      "metadata": {
        "id": "0fK_IVryszje"
      },
      "source": [
        "## Import Packages"
      ]
    },
    {
      "cell_type": "code",
      "execution_count": null,
      "metadata": {
        "colab": {
          "base_uri": "https://localhost:8080/"
        },
        "id": "QFt7rc9VN966",
        "outputId": "458dabda-8705-4e7c-a562-a1767b5729b4"
      },
      "outputs": [
        {
          "output_type": "stream",
          "name": "stdout",
          "text": [
            "/content/TyXe\n"
          ]
        }
      ],
      "source": [
        "%cd /content/TyXe"
      ]
    },
    {
      "cell_type": "code",
      "execution_count": null,
      "metadata": {
        "id": "psqtgYU1s2Po"
      },
      "outputs": [],
      "source": [
        "import os\n",
        "import torch\n",
        "import numpy as np\n",
        "from torch import nn\n",
        "from torchvision import datasets, transforms\n",
        "from torchvision.models import resnet18\n",
        "from tqdm import tqdm\n",
        "from copy import deepcopy\n",
        "import matplotlib.pyplot as plt\n",
        "\n",
        "import tyxe\n",
        "import functools\n",
        "\n",
        "import pyro\n",
        "import pyro.nn as pynn\n",
        "import pyro.poutine as poutine\n",
        "from pyro import distributions as dist\n",
        "from pyro.infer import SVI, Trace_ELBO, TraceMeanField_ELBO, MCMC\n",
        "\n",
        "import pyro.infer.autoguide.initialization as ag_init\n"
      ]
    },
    {
      "cell_type": "markdown",
      "metadata": {
        "id": "Nmv80PJ3rl7y"
      },
      "source": [
        "## Load data"
      ]
    },
    {
      "cell_type": "code",
      "execution_count": null,
      "metadata": {
        "colab": {
          "base_uri": "https://localhost:8080/",
          "referenced_widgets": [
            "4a6cfd31b89748679e41de20b1582dcf",
            "4be8e891d50b4b2596171a674c1b6448",
            "92e321f9f76b476a9c21fb479a23f55d",
            "e4cef8f08600484495763c6dc8997c69",
            "5ddb807c0ee54e4590b8d61a05a58d60",
            "18bf5d5dfc004f74a338d1238c76d304",
            "0b2225477c5349cbbbb03869b8102a2c",
            "9ea2604319b447eb8e8509a475ed53a9",
            "d77d4fca4aa0445eaae76415e597028c",
            "d7a3d778cd4e47b4802cf339a546da2a",
            "d72b089102b0401bbfb9cd63652ab8bc",
            "8dd1b690e8364c5ab38c42760eb53327",
            "7a0f20e5a21e4951aa8a49f92d422bef",
            "5e300cac696044548dfa9eb1c4765b85",
            "cdc51a455abe44378e09d5d589889657",
            "f8e6bd96749743eaa9101ce0f9328660",
            "2d09e94367ca4096bd5b9e6ed6ea50b1",
            "24bb958ddb104608b315f4d2169aa799",
            "d3f829f0fbb2434e9a31b0a0c478ff2a",
            "7e3913fd9318489b97935b73e59c965c",
            "c75b031466c1401c844dc6cebea67ffa",
            "20bfad6a47074a24a5a1c9b16495c806",
            "15755ca9cf2a4fb48ca8ec248fd3e345",
            "be848ec90dd147719721425bb4afd25f",
            "2c5b5ec2ad4c49f7b29b6ce5b043064b",
            "245ba04fc39d4c24a214dc7138f97983",
            "e831c1a53d064170a649385d3f9e5031",
            "e14cde524ab2448cb3b23d05ff790264",
            "53fd23314d714ad6a9456c8248ad7067",
            "2291bc28babb4ecca57c54582ee0873d",
            "886f64e8f7b8423ab287beb398c17cbb",
            "6d4b365b17a34ee6961c3b5b7b958aea",
            "dc882325434842fb9879fb6754379b3f",
            "bf7de4cde2944fb6bf7b806d4e777a5e",
            "35d2eb3d4f8b43809ae35dbd6b9820fa",
            "68eb797ed5634abc8a11ed919a7a3968",
            "db21090d04da463eab79029200472439",
            "80c161857e45498eb8fe2c841f0c5a5f",
            "c7cdc8fd04fa45889391bb460b3f8e4a",
            "a71703e56788420ca7b0445faba67852",
            "a4efc8e73b964755b613c5558ade1c0b",
            "dfc05891fb7842e3abbecd5470ec4abf",
            "13f96901ed4c40b6a816fbdf32aafc1e",
            "54f83ce6337742cf854b2682236284ec"
          ]
        },
        "id": "emX11nPHq349",
        "outputId": "2dcf627c-aae3-4ec5-e2bd-738ea0941f9b"
      },
      "outputs": [
        {
          "output_type": "stream",
          "name": "stdout",
          "text": [
            "Downloading http://yann.lecun.com/exdb/mnist/train-images-idx3-ubyte.gz\n",
            "Downloading http://yann.lecun.com/exdb/mnist/train-images-idx3-ubyte.gz to ./data/MNIST/raw/train-images-idx3-ubyte.gz\n"
          ]
        },
        {
          "output_type": "display_data",
          "data": {
            "text/plain": [
              "  0%|          | 0/9912422 [00:00<?, ?it/s]"
            ],
            "application/vnd.jupyter.widget-view+json": {
              "version_major": 2,
              "version_minor": 0,
              "model_id": "4a6cfd31b89748679e41de20b1582dcf"
            }
          },
          "metadata": {}
        },
        {
          "output_type": "stream",
          "name": "stdout",
          "text": [
            "Extracting ./data/MNIST/raw/train-images-idx3-ubyte.gz to ./data/MNIST/raw\n",
            "\n",
            "Downloading http://yann.lecun.com/exdb/mnist/train-labels-idx1-ubyte.gz\n",
            "Downloading http://yann.lecun.com/exdb/mnist/train-labels-idx1-ubyte.gz to ./data/MNIST/raw/train-labels-idx1-ubyte.gz\n"
          ]
        },
        {
          "output_type": "display_data",
          "data": {
            "text/plain": [
              "  0%|          | 0/28881 [00:00<?, ?it/s]"
            ],
            "application/vnd.jupyter.widget-view+json": {
              "version_major": 2,
              "version_minor": 0,
              "model_id": "8dd1b690e8364c5ab38c42760eb53327"
            }
          },
          "metadata": {}
        },
        {
          "output_type": "stream",
          "name": "stdout",
          "text": [
            "Extracting ./data/MNIST/raw/train-labels-idx1-ubyte.gz to ./data/MNIST/raw\n",
            "\n",
            "Downloading http://yann.lecun.com/exdb/mnist/t10k-images-idx3-ubyte.gz\n",
            "Downloading http://yann.lecun.com/exdb/mnist/t10k-images-idx3-ubyte.gz to ./data/MNIST/raw/t10k-images-idx3-ubyte.gz\n"
          ]
        },
        {
          "output_type": "display_data",
          "data": {
            "text/plain": [
              "  0%|          | 0/1648877 [00:00<?, ?it/s]"
            ],
            "application/vnd.jupyter.widget-view+json": {
              "version_major": 2,
              "version_minor": 0,
              "model_id": "15755ca9cf2a4fb48ca8ec248fd3e345"
            }
          },
          "metadata": {}
        },
        {
          "output_type": "stream",
          "name": "stdout",
          "text": [
            "Extracting ./data/MNIST/raw/t10k-images-idx3-ubyte.gz to ./data/MNIST/raw\n",
            "\n",
            "Downloading http://yann.lecun.com/exdb/mnist/t10k-labels-idx1-ubyte.gz\n",
            "Downloading http://yann.lecun.com/exdb/mnist/t10k-labels-idx1-ubyte.gz to ./data/MNIST/raw/t10k-labels-idx1-ubyte.gz\n"
          ]
        },
        {
          "output_type": "display_data",
          "data": {
            "text/plain": [
              "  0%|          | 0/4542 [00:00<?, ?it/s]"
            ],
            "application/vnd.jupyter.widget-view+json": {
              "version_major": 2,
              "version_minor": 0,
              "model_id": "bf7de4cde2944fb6bf7b806d4e777a5e"
            }
          },
          "metadata": {}
        },
        {
          "output_type": "stream",
          "name": "stdout",
          "text": [
            "Extracting ./data/MNIST/raw/t10k-labels-idx1-ubyte.gz to ./data/MNIST/raw\n",
            "\n"
          ]
        }
      ],
      "source": [
        "ds_test = datasets.MNIST(\"./data\", train=False, transform=transforms.ToTensor(), download=True)\n",
        "ds_train = datasets.MNIST(\"./data\", train=True, transform=transforms.ToTensor(), download=True)\n",
        "def get_sMNIST(task_idx, device):\n",
        "    np.random.seed(task_idx)\n",
        "    labels = np.array_split(range(0, 10), 5)[task_idx]\n",
        "    ds_train_filtered = list(filter(lambda item: item[1] in labels, ds_train))\n",
        "    ds_test_filtered = list(filter(lambda item: item[1] in labels, ds_test))\n",
        "    train_x = torch.stack([d[0] for d in ds_train_filtered])\n",
        "    train_y = torch.tensor([d[1] - task_idx * 2 for d in ds_train_filtered])\n",
        "    \n",
        "    test_x = torch.stack([d[0] for d in ds_test_filtered])\n",
        "    test_y = torch.tensor([d[1] - task_idx * 2 for d in ds_test_filtered])\n",
        "\n",
        "    return train_x.to(device), train_y.to(device), test_x.to(device), test_y.to(device)"
      ]
    },
    {
      "cell_type": "markdown",
      "metadata": {
        "id": "NZ_hlEabtPTR"
      },
      "source": [
        "## Define Networks and Likelihoods"
      ]
    },
    {
      "cell_type": "code",
      "execution_count": null,
      "metadata": {
        "id": "qza1Bdhx0Rgq"
      },
      "outputs": [],
      "source": [
        "# define a class, converting the network to a BNN distribution\n",
        "class ModelBNN(pynn.PyroModule):\n",
        "    def __init__(self, net, prior, name=\"\"):\n",
        "        super().__init__(name)\n",
        "        self.net = net\n",
        "        pynn.module.to_pyro_module_(self.net)\n",
        "        self.prior = prior\n",
        "        self.prior.apply_(self.net)\n",
        "    def forward(self, *args, **kwargs):\n",
        "        return self.net(*args, **kwargs)\n",
        "    def update_prior(self, new_prior):\n",
        "        self.prior = new_prior\n",
        "        self.prior.update_(self)"
      ]
    },
    {
      "cell_type": "code",
      "execution_count": null,
      "metadata": {
        "id": "1hPkEPbMcvXM"
      },
      "outputs": [],
      "source": [
        "class MultiHeadResnet(nn.Module):\n",
        "    def __init__(self, head_nums):\n",
        "        super().__init__()\n",
        "        self.resnet = resnet18()\n",
        "        self.resnet.fc = nn.Identity()\n",
        "        self.resnet.conv1 = nn.Conv2d(1, 64, kernel_size=(7, 7), stride=(2, 2), padding=(3, 3), bias=False)\n",
        "        self.heads = nn.ModuleList([nn.Linear(512, 2) for i in range(head_nums)])\n",
        "    def forward(self, x):\n",
        "        h = self.resnet(x)\n",
        "        logits = torch.cat([i(h)[:, None, :] for i in self.heads], dim=1)\n",
        "        return logits\n"
      ]
    },
    {
      "cell_type": "code",
      "execution_count": null,
      "metadata": {
        "id": "Pbf9Ur4kSSgP"
      },
      "outputs": [],
      "source": [
        "def define_resnet():\n",
        "    return MultiHeadResnet(5)"
      ]
    },
    {
      "cell_type": "code",
      "execution_count": null,
      "metadata": {
        "id": "ti1qEK-u0bGp"
      },
      "outputs": [],
      "source": [
        "# define pyro model\n",
        "def split_MNIST_model(multi_head_net, x, y, task_ids, dataset_size, annealing_factor):\n",
        "    z = multi_head_net(x)[np.arange(x.shape[0]), task_ids, :] # reshape the last dimension into 5 heads\n",
        "    with poutine.scale(None, dataset_size / x.shape[0]):\n",
        "        with pyro.plate(\"batch_size\", x.shape[0], dim=-1):\n",
        "            pyro.sample(\"batch_obs\", dist.Categorical(logits=z), obs=y.long())\n",
        "    return z"
      ]
    },
    {
      "cell_type": "code",
      "execution_count": null,
      "metadata": {
        "id": "gE5yRVT9Uj9V"
      },
      "outputs": [],
      "source": [
        "def train_model(train_x, \n",
        "                train_y, \n",
        "                train_t, \n",
        "                batch_size,\n",
        "                n_epochs,\n",
        "                pyro_model,\n",
        "                define_net, \n",
        "                last_guide, \n",
        "                random_init_guide,\n",
        "                prior=tyxe.priors.IIDPrior(dist.Normal(torch.tensor(0., device=device), torch.tensor(1., device=device)))):\n",
        "    \"\"\"\n",
        "    a function to train BNN\n",
        "    define_net: python callable, returning a torch nn network\n",
        "    last_guide: if None, use prior; if not None, use it as prior\n",
        "    prior: if last_guide is None. use this as the prior\n",
        "    pyro_model: python callable, defining the pyro model\n",
        "    \"\"\"\n",
        "    \n",
        "    bnn = ModelBNN(define_net(), prior).to(device) # define the bnn model\n",
        "    if last_guide != None:\n",
        "        site_names = tyxe.util.pyro_sample_sites(bnn)\n",
        "        bnn.update_prior(tyxe.priors.DictPrior(last_guide.get_detached_distributions(site_names)))\n",
        "    opt = pyro.optim.ClippedAdam({\"lr\": 0.001}) \n",
        "    if random_init_guide or last_guide == None:\n",
        "        guide = functools.partial(\n",
        "                                  tyxe.guides.AutoNormal,  \n",
        "                                  init_scale=1e-3,  \n",
        "                                  init_loc_fn=ag_init.init_to_sample\n",
        "                                 )(pyro_model)\n",
        "    else:\n",
        "        guide = deepcopy(last_guide)\n",
        "    svi = SVI(pyro_model, guide, opt, Trace_ELBO())\n",
        "    dataset_size = train_x.shape[0]\n",
        "\n",
        "\n",
        "    pyro.clear_param_store()\n",
        "    ELBO = []\n",
        "    for epoch in tqdm(range(n_epochs)):\n",
        "        elbos = []\n",
        "        for batch in range(int(np.ceil(dataset_size / batch_size))):\n",
        "            batch_idx0 = batch * batch_size\n",
        "            batch_idx1 = batch * batch_size + batch_size\n",
        "            batch_x = train_x[batch_idx0: batch_idx1]\n",
        "            batch_y = train_y[batch_idx0: batch_idx1]\n",
        "            batch_t = train_t[batch_idx0: batch_idx1].long()\n",
        "            elbo = svi.step(bnn, \n",
        "                            x=batch_x, \n",
        "                            y=batch_y, \n",
        "                            task_ids=batch_t, \n",
        "                            dataset_size=dataset_size, \n",
        "                            annealing_factor=1)\n",
        "            elbos.append(elbo)\n",
        "        ELBO.append(np.mean(elbos))\n",
        "    return guide, ELBO\n"
      ]
    },
    {
      "cell_type": "code",
      "execution_count": null,
      "metadata": {
        "id": "9xq7bi9rWwRv"
      },
      "outputs": [],
      "source": [
        "def prediction(test_x, \n",
        "               test_y,\n",
        "               test_t, \n",
        "               define_net, \n",
        "               guide,\n",
        "               n_particles=100):\n",
        "    prior = tyxe.priors.IIDPrior(dist.Normal(torch.tensor(0., device=device), torch.tensor(1., device=device)))\n",
        "    bnn = ModelBNN(define_net(), prior).to(device) # define the bnn model\n",
        "    site_names = tyxe.util.pyro_sample_sites(bnn)\n",
        "    dist_dict = guide.get_detached_distributions(site_names)\n",
        "    bnn.update_prior(tyxe.priors.DictPrior(dist_dict)) # use the guide as the prior\n",
        "\n",
        "    pyro.clear_param_store()\n",
        "    Z = []\n",
        "    for _ in range(n_particles):  \n",
        "        z = bnn(test_x)[np.arange(test_x.shape[0]), test_t, :]\n",
        "        Z.append(z)\n",
        "    pred = torch.stack(Z).mean(0).argmax(-1)\n",
        "    acc = (pred == test_y).cpu().detach().numpy().mean()\n",
        "    return acc"
      ]
    },
    {
      "cell_type": "code",
      "execution_count": null,
      "metadata": {
        "id": "7gjESlZ_8TZZ"
      },
      "outputs": [],
      "source": [
        "batch_size = 256\n",
        "coreset_size = 40\n",
        "coreset_x = None\n",
        "coreset_y = None\n",
        "coreset_t = None\n",
        "\n",
        "\n",
        "Test_x = []\n",
        "Test_y = []\n",
        "Test_t = []\n",
        "\n",
        "Accuracies = {}"
      ]
    },
    {
      "cell_type": "code",
      "execution_count": null,
      "metadata": {
        "colab": {
          "base_uri": "https://localhost:8080/",
          "height": 1000
        },
        "id": "00YB7XBXXuiK",
        "outputId": "ce45e2a5-3fe5-4c99-ae23-04775d8ddcd5"
      },
      "outputs": [
        {
          "output_type": "stream",
          "name": "stdout",
          "text": [
            "=================== train task 0 ========================\n"
          ]
        },
        {
          "output_type": "stream",
          "name": "stderr",
          "text": [
            "100%|██████████| 300/300 [44:52<00:00,  8.97s/it]\n"
          ]
        },
        {
          "output_type": "display_data",
          "data": {
            "text/plain": [
              "<Figure size 432x288 with 1 Axes>"
            ],
            "image/png": "[encoded data removed]"
          },
          "metadata": {
            "needs_background": "light"
          }
        },
        {
          "output_type": "stream",
          "name": "stdout",
          "text": [
            "The Accuracies of Propogation Model\n",
            "[0.9990543735224586]\n"
          ]
        },
        {
          "output_type": "stream",
          "name": "stderr",
          "text": [
            "100%|██████████| 500/500 [01:33<00:00,  5.33it/s]\n"
          ]
        },
        {
          "output_type": "display_data",
          "data": {
            "text/plain": [
              "<Figure size 432x288 with 1 Axes>"
            ],
            "image/png": "[encoded data removed]"
          },
          "metadata": {
            "needs_background": "light"
          }
        },
        {
          "output_type": "stream",
          "name": "stdout",
          "text": [
            "The Accuracies of Predict Model\n",
            "[1.0]\n",
            "=================== train task 1 ========================\n"
          ]
        },
        {
          "output_type": "stream",
          "name": "stderr",
          "text": [
            "100%|██████████| 150/150 [21:31<00:00,  8.61s/it]\n"
          ]
        },
        {
          "output_type": "display_data",
          "data": {
            "text/plain": [
              "<Figure size 432x288 with 1 Axes>"
            ],
            "image/png": "[encoded data removed]"
          },
          "metadata": {
            "needs_background": "light"
          }
        },
        {
          "output_type": "stream",
          "name": "stdout",
          "text": [
            "The Accuracies of Propogation Model\n",
            "[0.9985815602836879, 0.9985308521057786]\n"
          ]
        },
        {
          "output_type": "stream",
          "name": "stderr",
          "text": [
            "100%|██████████| 500/500 [01:33<00:00,  5.35it/s]\n"
          ]
        },
        {
          "output_type": "display_data",
          "data": {
            "text/plain": [
              "<Figure size 432x288 with 1 Axes>"
            ],
            "image/png": "[encoded data removed]"
          },
          "metadata": {
            "needs_background": "light"
          }
        },
        {
          "output_type": "stream",
          "name": "stdout",
          "text": [
            "The Accuracies of Predict Model\n",
            "[0.9985815602836879, 0.9980411361410382]\n",
            "=================== train task 2 ========================\n"
          ]
        },
        {
          "output_type": "stream",
          "name": "stderr",
          "text": [
            "100%|██████████| 150/150 [19:35<00:00,  7.83s/it]\n"
          ]
        },
        {
          "output_type": "display_data",
          "data": {
            "text/plain": [
              "<Figure size 432x288 with 1 Axes>"
            ],
            "image/png": "[encoded data removed]"
          },
          "metadata": {
            "needs_background": "light"
          }
        },
        {
          "output_type": "stream",
          "name": "stdout",
          "text": [
            "The Accuracies of Propogation Model\n",
            "[0.9985815602836879, 0.9769833496571988, 1.0]\n"
          ]
        },
        {
          "output_type": "stream",
          "name": "stderr",
          "text": [
            "100%|██████████| 500/500 [01:33<00:00,  5.35it/s]\n"
          ]
        },
        {
          "output_type": "display_data",
          "data": {
            "text/plain": [
              "<Figure size 432x288 with 1 Axes>"
            ],
            "image/png": "[encoded data removed]"
          },
          "metadata": {
            "needs_background": "light"
          }
        },
        {
          "output_type": "stream",
          "name": "stdout",
          "text": [
            "The Accuracies of Predict Model\n",
            "[0.9985815602836879, 0.9882468168462292, 1.0]\n",
            "=================== train task 3 ========================\n"
          ]
        },
        {
          "output_type": "stream",
          "name": "stderr",
          "text": [
            "100%|██████████| 150/150 [21:30<00:00,  8.60s/it]\n"
          ]
        },
        {
          "output_type": "display_data",
          "data": {
            "text/plain": [
              "<Figure size 432x288 with 1 Axes>"
            ],
            "image/png": "[encoded data removed]"
          },
          "metadata": {
            "needs_background": "light"
          }
        },
        {
          "output_type": "stream",
          "name": "stdout",
          "text": [
            "The Accuracies of Propogation Model\n",
            "[0.9938534278959811, 0.806562193927522, 0.9445037353255069, 0.999496475327291]\n"
          ]
        },
        {
          "output_type": "stream",
          "name": "stderr",
          "text": [
            "100%|██████████| 500/500 [01:35<00:00,  5.23it/s]\n"
          ]
        },
        {
          "output_type": "display_data",
          "data": {
            "text/plain": [
              "<Figure size 432x288 with 1 Axes>"
            ],
            "image/png": "[encoded data removed]"
          },
          "metadata": {
            "needs_background": "light"
          }
        },
        {
          "output_type": "stream",
          "name": "stdout",
          "text": [
            "The Accuracies of Predict Model\n",
            "[0.9966903073286052, 0.9622918707149853, 0.9946638207043756, 1.0]\n",
            "=================== train task 4 ========================\n"
          ]
        },
        {
          "output_type": "stream",
          "name": "stderr",
          "text": [
            "100%|██████████| 150/150 [20:55<00:00,  8.37s/it]\n"
          ]
        },
        {
          "output_type": "display_data",
          "data": {
            "text/plain": [
              "<Figure size 432x288 with 1 Axes>"
            ],
            "image/png": "[encoded data removed]"
          },
          "metadata": {
            "needs_background": "light"
          }
        },
        {
          "output_type": "stream",
          "name": "stdout",
          "text": [
            "The Accuracies of Propogation Model\n",
            "[0.774468085106383, 0.4990205680705191, 0.9306296691568837, 0.9712990936555891, 0.9919314170448815]\n"
          ]
        },
        {
          "output_type": "stream",
          "name": "stderr",
          "text": [
            "100%|██████████| 500/500 [01:36<00:00,  5.20it/s]\n"
          ]
        },
        {
          "output_type": "display_data",
          "data": {
            "text/plain": [
              "<Figure size 432x288 with 1 Axes>"
            ],
            "image/png": "[encoded data removed]"
          },
          "metadata": {
            "needs_background": "light"
          }
        },
        {
          "output_type": "stream",
          "name": "stdout",
          "text": [
            "The Accuracies of Predict Model\n",
            "[0.9914893617021276, 0.9040156709108716, 0.9866595517609391, 0.9944612286002014, 0.9773071104387292]\n"
          ]
        }
      ],
      "source": [
        "for task_idx in range(5):\n",
        "    print(\"=================== train task %d ========================\"%task_idx)\n",
        "    train_x, train_y, test_x, test_y = get_sMNIST(task_idx, device)\n",
        "    train_x, train_y = train_x, train_y\n",
        "\n",
        "    # select coreset\n",
        "    coreset_idx = np.random.choice(train_x.shape[0], coreset_size, False)\n",
        "    train_idx = np.delete(np.arange(train_x.shape[0]), coreset_idx)\n",
        "\n",
        "    Test_x.append(test_x)\n",
        "    Test_y.append(test_y)\n",
        "    Test_t.append(torch.ones_like(test_y) * task_idx)\n",
        "\n",
        "    if coreset_x == None:\n",
        "        coreset_x = train_x[coreset_idx]\n",
        "        coreset_y = train_y[coreset_idx]\n",
        "        coreset_t = torch.ones_like(train_y[coreset_idx]) * task_idx\n",
        "    else:\n",
        "        coreset_x = torch.cat([train_x[coreset_idx], coreset_x])\n",
        "        coreset_y = torch.cat([train_y[coreset_idx], coreset_y])\n",
        "        coreset_t = torch.cat([torch.ones_like(train_y[coreset_idx]) * task_idx, coreset_t])\n",
        "\n",
        "    train_x = train_x[train_idx]\n",
        "    train_y = train_y[train_idx]\n",
        "    train_t = torch.ones_like(train_y) * task_idx\n",
        "\n",
        "    prop_guide, ELBO = train_model(train_x, \n",
        "                                   train_y, \n",
        "                                   train_t, \n",
        "                                   batch_size,\n",
        "                                   n_epochs=150 if task_idx!=0 else 300,\n",
        "                                   pyro_model=split_MNIST_model,\n",
        "                                   define_net=define_resnet, \n",
        "                                   last_guide=prop_guide if task_idx != 0 else None,\n",
        "                                   random_init_guide=True)# if task_idx == 0 else prop_guide) \n",
        "    plt.plot(ELBO)\n",
        "    plt.yscale(\"log\")\n",
        "    plt.show()\n",
        "\n",
        "\n",
        "    Acc = []\n",
        "    for t in range(len(Test_x)):\n",
        "        acc = prediction(test_x=Test_x[t], \n",
        "                         test_y=Test_y[t], \n",
        "                          test_t=Test_t[t], \n",
        "                          define_net=define_resnet, \n",
        "                          guide=prop_guide,\n",
        "                          n_particles=100)\n",
        "        Acc.append(acc)\n",
        "    print(\"The Accuracies of Propogation Model\")\n",
        "    print(Acc)\n",
        "\n",
        "    \n",
        "\n",
        "    pred_guide, ELBO = train_model(coreset_x, \n",
        "                                   coreset_y, \n",
        "                                   coreset_t, \n",
        "                                   batch_size,\n",
        "                                   n_epochs=500,\n",
        "                                   pyro_model=split_MNIST_model,\n",
        "                                   define_net=define_resnet, \n",
        "                                   last_guide=prop_guide,\n",
        "                                   random_init_guide=False)\n",
        "    plt.plot(ELBO)\n",
        "    plt.show()\n",
        "\n",
        "\n",
        "    Acc = []\n",
        "    for t in range(len(Test_x)):\n",
        "        acc = prediction(test_x=Test_x[t], \n",
        "                         test_y=Test_y[t], \n",
        "                         test_t=Test_t[t], \n",
        "                         define_net=define_resnet, \n",
        "                         guide=pred_guide,\n",
        "                         n_particles=100)\n",
        "        Acc.append(acc)\n",
        "    print(\"The Accuracies of Predict Model\")\n",
        "    print(Acc)\n",
        "\n"
      ]
    },
    {
      "cell_type": "code",
      "execution_count": null,
      "metadata": {
        "id": "1-MkMA_kOBFZ"
      },
      "outputs": [],
      "source": [
        "from google.colab import runtime\n",
        "runtime.unassign()"
      ]
    }
  ],
  "metadata": {
    "accelerator": "GPU",
    "colab": {
      "collapsed_sections": [
        "pMSUQQ_Trd8o",
        "0fK_IVryszje",
        "Nmv80PJ3rl7y"
      ],
      "provenance": []
    },
    "gpuClass": "standard",
    "kernelspec": {
      "display_name": "Python 3",
      "name": "python3"
    },
    "language_info": {
      "name": "python"
    },
    "widgets": {
      "application/vnd.jupyter.widget-state+json": {
        "4a6cfd31b89748679e41de20b1582dcf": {
          "model_module": "@jupyter-widgets/controls",
          "model_name": "HBoxModel",
          "model_module_version": "1.5.0",
          "state": {
            "_dom_classes": [],
            "_model_module": "@jupyter-widgets/controls",
            "_model_module_version": "1.5.0",
            "_model_name": "HBoxModel",
            "_view_count": null,
            "_view_module": "@jupyter-widgets/controls",
            "_view_module_version": "1.5.0",
            "_view_name": "HBoxView",
            "box_style": "",
            "children": [
              "IPY_MODEL_4be8e891d50b4b2596171a674c1b6448",
              "IPY_MODEL_92e321f9f76b476a9c21fb479a23f55d",
              "IPY_MODEL_e4cef8f08600484495763c6dc8997c69"
            ],
            "layout": "IPY_MODEL_5ddb807c0ee54e4590b8d61a05a58d60"
          }
        },
        "4be8e891d50b4b2596171a674c1b6448": {
          "model_module": "@jupyter-widgets/controls",
          "model_name": "HTMLModel",
          "model_module_version": "1.5.0",
          "state": {
            "_dom_classes": [],
            "_model_module": "@jupyter-widgets/controls",
            "_model_module_version": "1.5.0",
            "_model_name": "HTMLModel",
            "_view_count": null,
            "_view_module": "@jupyter-widgets/controls",
            "_view_module_version": "1.5.0",
            "_view_name": "HTMLView",
            "description": "",
            "description_tooltip": null,
            "layout": "IPY_MODEL_18bf5d5dfc004f74a338d1238c76d304",
            "placeholder": "​",
            "style": "IPY_MODEL_0b2225477c5349cbbbb03869b8102a2c",
            "value": "100%"
          }
        },
        "92e321f9f76b476a9c21fb479a23f55d": {
          "model_module": "@jupyter-widgets/controls",
          "model_name": "FloatProgressModel",
          "model_module_version": "1.5.0",
          "state": {
            "_dom_classes": [],
            "_model_module": "@jupyter-widgets/controls",
            "_model_module_version": "1.5.0",
            "_model_name": "FloatProgressModel",
            "_view_count": null,
            "_view_module": "@jupyter-widgets/controls",
            "_view_module_version": "1.5.0",
            "_view_name": "ProgressView",
            "bar_style": "success",
            "description": "",
            "description_tooltip": null,
            "layout": "IPY_MODEL_9ea2604319b447eb8e8509a475ed53a9",
            "max": 9912422,
            "min": 0,
            "orientation": "horizontal",
            "style": "IPY_MODEL_d77d4fca4aa0445eaae76415e597028c",
            "value": 9912422
          }
        },
        "e4cef8f08600484495763c6dc8997c69": {
          "model_module": "@jupyter-widgets/controls",
          "model_name": "HTMLModel",
          "model_module_version": "1.5.0",
          "state": {
            "_dom_classes": [],
            "_model_module": "@jupyter-widgets/controls",
            "_model_module_version": "1.5.0",
            "_model_name": "HTMLModel",
            "_view_count": null,
            "_view_module": "@jupyter-widgets/controls",
            "_view_module_version": "1.5.0",
            "_view_name": "HTMLView",
            "description": "",
            "description_tooltip": null,
            "layout": "IPY_MODEL_d7a3d778cd4e47b4802cf339a546da2a",
            "placeholder": "​",
            "style": "IPY_MODEL_d72b089102b0401bbfb9cd63652ab8bc",
            "value": " 9912422/9912422 [00:00&lt;00:00, 142824251.86it/s]"
          }
        },
        "5ddb807c0ee54e4590b8d61a05a58d60": {
          "model_module": "@jupyter-widgets/base",
          "model_name": "LayoutModel",
          "model_module_version": "1.2.0",
          "state": {
            "_model_module": "@jupyter-widgets/base",
            "_model_module_version": "1.2.0",
            "_model_name": "LayoutModel",
            "_view_count": null,
            "_view_module": "@jupyter-widgets/base",
            "_view_module_version": "1.2.0",
            "_view_name": "LayoutView",
            "align_content": null,
            "align_items": null,
            "align_self": null,
            "border": null,
            "bottom": null,
            "display": null,
            "flex": null,
            "flex_flow": null,
            "grid_area": null,
            "grid_auto_columns": null,
            "grid_auto_flow": null,
            "grid_auto_rows": null,
            "grid_column": null,
            "grid_gap": null,
            "grid_row": null,
            "grid_template_areas": null,
            "grid_template_columns": null,
            "grid_template_rows": null,
            "height": null,
            "justify_content": null,
            "justify_items": null,
            "left": null,
            "margin": null,
            "max_height": null,
            "max_width": null,
            "min_height": null,
            "min_width": null,
            "object_fit": null,
            "object_position": null,
            "order": null,
            "overflow": null,
            "overflow_x": null,
            "overflow_y": null,
            "padding": null,
            "right": null,
            "top": null,
            "visibility": null,
            "width": null
          }
        },
        "18bf5d5dfc004f74a338d1238c76d304": {
          "model_module": "@jupyter-widgets/base",
          "model_name": "LayoutModel",
          "model_module_version": "1.2.0",
          "state": {
            "_model_module": "@jupyter-widgets/base",
            "_model_module_version": "1.2.0",
            "_model_name": "LayoutModel",
            "_view_count": null,
            "_view_module": "@jupyter-widgets/base",
            "_view_module_version": "1.2.0",
            "_view_name": "LayoutView",
            "align_content": null,
            "align_items": null,
            "align_self": null,
            "border": null,
            "bottom": null,
            "display": null,
            "flex": null,
            "flex_flow": null,
            "grid_area": null,
            "grid_auto_columns": null,
            "grid_auto_flow": null,
            "grid_auto_rows": null,
            "grid_column": null,
            "grid_gap": null,
            "grid_row": null,
            "grid_template_areas": null,
            "grid_template_columns": null,
            "grid_template_rows": null,
            "height": null,
            "justify_content": null,
            "justify_items": null,
            "left": null,
            "margin": null,
            "max_height": null,
            "max_width": null,
            "min_height": null,
            "min_width": null,
            "object_fit": null,
            "object_position": null,
            "order": null,
            "overflow": null,
            "overflow_x": null,
            "overflow_y": null,
            "padding": null,
            "right": null,
            "top": null,
            "visibility": null,
            "width": null
          }
        },
        "0b2225477c5349cbbbb03869b8102a2c": {
          "model_module": "@jupyter-widgets/controls",
          "model_name": "DescriptionStyleModel",
          "model_module_version": "1.5.0",
          "state": {
            "_model_module": "@jupyter-widgets/controls",
            "_model_module_version": "1.5.0",
            "_model_name": "DescriptionStyleModel",
            "_view_count": null,
            "_view_module": "@jupyter-widgets/base",
            "_view_module_version": "1.2.0",
            "_view_name": "StyleView",
            "description_width": ""
          }
        },
        "9ea2604319b447eb8e8509a475ed53a9": {
          "model_module": "@jupyter-widgets/base",
          "model_name": "LayoutModel",
          "model_module_version": "1.2.0",
          "state": {
            "_model_module": "@jupyter-widgets/base",
            "_model_module_version": "1.2.0",
            "_model_name": "LayoutModel",
            "_view_count": null,
            "_view_module": "@jupyter-widgets/base",
            "_view_module_version": "1.2.0",
            "_view_name": "LayoutView",
            "align_content": null,
            "align_items": null,
            "align_self": null,
            "border": null,
            "bottom": null,
            "display": null,
            "flex": null,
            "flex_flow": null,
            "grid_area": null,
            "grid_auto_columns": null,
            "grid_auto_flow": null,
            "grid_auto_rows": null,
            "grid_column": null,
            "grid_gap": null,
            "grid_row": null,
            "grid_template_areas": null,
            "grid_template_columns": null,
            "grid_template_rows": null,
            "height": null,
            "justify_content": null,
            "justify_items": null,
            "left": null,
            "margin": null,
            "max_height": null,
            "max_width": null,
            "min_height": null,
            "min_width": null,
            "object_fit": null,
            "object_position": null,
            "order": null,
            "overflow": null,
            "overflow_x": null,
            "overflow_y": null,
            "padding": null,
            "right": null,
            "top": null,
            "visibility": null,
            "width": null
          }
        },
        "d77d4fca4aa0445eaae76415e597028c": {
          "model_module": "@jupyter-widgets/controls",
          "model_name": "ProgressStyleModel",
          "model_module_version": "1.5.0",
          "state": {
            "_model_module": "@jupyter-widgets/controls",
            "_model_module_version": "1.5.0",
            "_model_name": "ProgressStyleModel",
            "_view_count": null,
            "_view_module": "@jupyter-widgets/base",
            "_view_module_version": "1.2.0",
            "_view_name": "StyleView",
            "bar_color": null,
            "description_width": ""
          }
        },
        "d7a3d778cd4e47b4802cf339a546da2a": {
          "model_module": "@jupyter-widgets/base",
          "model_name": "LayoutModel",
          "model_module_version": "1.2.0",
          "state": {
            "_model_module": "@jupyter-widgets/base",
            "_model_module_version": "1.2.0",
            "_model_name": "LayoutModel",
            "_view_count": null,
            "_view_module": "@jupyter-widgets/base",
            "_view_module_version": "1.2.0",
            "_view_name": "LayoutView",
            "align_content": null,
            "align_items": null,
            "align_self": null,
            "border": null,
            "bottom": null,
            "display": null,
            "flex": null,
            "flex_flow": null,
            "grid_area": null,
            "grid_auto_columns": null,
            "grid_auto_flow": null,
            "grid_auto_rows": null,
            "grid_column": null,
            "grid_gap": null,
            "grid_row": null,
            "grid_template_areas": null,
            "grid_template_columns": null,
            "grid_template_rows": null,
            "height": null,
            "justify_content": null,
            "justify_items": null,
            "left": null,
            "margin": null,
            "max_height": null,
            "max_width": null,
            "min_height": null,
            "min_width": null,
            "object_fit": null,
            "object_position": null,
            "order": null,
            "overflow": null,
            "overflow_x": null,
            "overflow_y": null,
            "padding": null,
            "right": null,
            "top": null,
            "visibility": null,
            "width": null
          }
        },
        "d72b089102b0401bbfb9cd63652ab8bc": {
          "model_module": "@jupyter-widgets/controls",
          "model_name": "DescriptionStyleModel",
          "model_module_version": "1.5.0",
          "state": {
            "_model_module": "@jupyter-widgets/controls",
            "_model_module_version": "1.5.0",
            "_model_name": "DescriptionStyleModel",
            "_view_count": null,
            "_view_module": "@jupyter-widgets/base",
            "_view_module_version": "1.2.0",
            "_view_name": "StyleView",
            "description_width": ""
          }
        },
        "8dd1b690e8364c5ab38c42760eb53327": {
          "model_module": "@jupyter-widgets/controls",
          "model_name": "HBoxModel",
          "model_module_version": "1.5.0",
          "state": {
            "_dom_classes": [],
            "_model_module": "@jupyter-widgets/controls",
            "_model_module_version": "1.5.0",
            "_model_name": "HBoxModel",
            "_view_count": null,
            "_view_module": "@jupyter-widgets/controls",
            "_view_module_version": "1.5.0",
            "_view_name": "HBoxView",
            "box_style": "",
            "children": [
              "IPY_MODEL_7a0f20e5a21e4951aa8a49f92d422bef",
              "IPY_MODEL_5e300cac696044548dfa9eb1c4765b85",
              "IPY_MODEL_cdc51a455abe44378e09d5d589889657"
            ],
            "layout": "IPY_MODEL_f8e6bd96749743eaa9101ce0f9328660"
          }
        },
        "7a0f20e5a21e4951aa8a49f92d422bef": {
          "model_module": "@jupyter-widgets/controls",
          "model_name": "HTMLModel",
          "model_module_version": "1.5.0",
          "state": {
            "_dom_classes": [],
            "_model_module": "@jupyter-widgets/controls",
            "_model_module_version": "1.5.0",
            "_model_name": "HTMLModel",
            "_view_count": null,
            "_view_module": "@jupyter-widgets/controls",
            "_view_module_version": "1.5.0",
            "_view_name": "HTMLView",
            "description": "",
            "description_tooltip": null,
            "layout": "IPY_MODEL_2d09e94367ca4096bd5b9e6ed6ea50b1",
            "placeholder": "​",
            "style": "IPY_MODEL_24bb958ddb104608b315f4d2169aa799",
            "value": "100%"
          }
        },
        "5e300cac696044548dfa9eb1c4765b85": {
          "model_module": "@jupyter-widgets/controls",
          "model_name": "FloatProgressModel",
          "model_module_version": "1.5.0",
          "state": {
            "_dom_classes": [],
            "_model_module": "@jupyter-widgets/controls",
            "_model_module_version": "1.5.0",
            "_model_name": "FloatProgressModel",
            "_view_count": null,
            "_view_module": "@jupyter-widgets/controls",
            "_view_module_version": "1.5.0",
            "_view_name": "ProgressView",
            "bar_style": "success",
            "description": "",
            "description_tooltip": null,
            "layout": "IPY_MODEL_d3f829f0fbb2434e9a31b0a0c478ff2a",
            "max": 28881,
            "min": 0,
            "orientation": "horizontal",
            "style": "IPY_MODEL_7e3913fd9318489b97935b73e59c965c",
            "value": 28881
          }
        },
        "cdc51a455abe44378e09d5d589889657": {
          "model_module": "@jupyter-widgets/controls",
          "model_name": "HTMLModel",
          "model_module_version": "1.5.0",
          "state": {
            "_dom_classes": [],
            "_model_module": "@jupyter-widgets/controls",
            "_model_module_version": "1.5.0",
            "_model_name": "HTMLModel",
            "_view_count": null,
            "_view_module": "@jupyter-widgets/controls",
            "_view_module_version": "1.5.0",
            "_view_name": "HTMLView",
            "description": "",
            "description_tooltip": null,
            "layout": "IPY_MODEL_c75b031466c1401c844dc6cebea67ffa",
            "placeholder": "​",
            "style": "IPY_MODEL_20bfad6a47074a24a5a1c9b16495c806",
            "value": " 28881/28881 [00:00&lt;00:00, 1061197.49it/s]"
          }
        },
        "f8e6bd96749743eaa9101ce0f9328660": {
          "model_module": "@jupyter-widgets/base",
          "model_name": "LayoutModel",
          "model_module_version": "1.2.0",
          "state": {
            "_model_module": "@jupyter-widgets/base",
            "_model_module_version": "1.2.0",
            "_model_name": "LayoutModel",
            "_view_count": null,
            "_view_module": "@jupyter-widgets/base",
            "_view_module_version": "1.2.0",
            "_view_name": "LayoutView",
            "align_content": null,
            "align_items": null,
            "align_self": null,
            "border": null,
            "bottom": null,
            "display": null,
            "flex": null,
            "flex_flow": null,
            "grid_area": null,
            "grid_auto_columns": null,
            "grid_auto_flow": null,
            "grid_auto_rows": null,
            "grid_column": null,
            "grid_gap": null,
            "grid_row": null,
            "grid_template_areas": null,
            "grid_template_columns": null,
            "grid_template_rows": null,
            "height": null,
            "justify_content": null,
            "justify_items": null,
            "left": null,
            "margin": null,
            "max_height": null,
            "max_width": null,
            "min_height": null,
            "min_width": null,
            "object_fit": null,
            "object_position": null,
            "order": null,
            "overflow": null,
            "overflow_x": null,
            "overflow_y": null,
            "padding": null,
            "right": null,
            "top": null,
            "visibility": null,
            "width": null
          }
        },
        "2d09e94367ca4096bd5b9e6ed6ea50b1": {
          "model_module": "@jupyter-widgets/base",
          "model_name": "LayoutModel",
          "model_module_version": "1.2.0",
          "state": {
            "_model_module": "@jupyter-widgets/base",
            "_model_module_version": "1.2.0",
            "_model_name": "LayoutModel",
            "_view_count": null,
            "_view_module": "@jupyter-widgets/base",
            "_view_module_version": "1.2.0",
            "_view_name": "LayoutView",
            "align_content": null,
            "align_items": null,
            "align_self": null,
            "border": null,
            "bottom": null,
            "display": null,
            "flex": null,
            "flex_flow": null,
            "grid_area": null,
            "grid_auto_columns": null,
            "grid_auto_flow": null,
            "grid_auto_rows": null,
            "grid_column": null,
            "grid_gap": null,
            "grid_row": null,
            "grid_template_areas": null,
            "grid_template_columns": null,
            "grid_template_rows": null,
            "height": null,
            "justify_content": null,
            "justify_items": null,
            "left": null,
            "margin": null,
            "max_height": null,
            "max_width": null,
            "min_height": null,
            "min_width": null,
            "object_fit": null,
            "object_position": null,
            "order": null,
            "overflow": null,
            "overflow_x": null,
            "overflow_y": null,
            "padding": null,
            "right": null,
            "top": null,
            "visibility": null,
            "width": null
          }
        },
        "24bb958ddb104608b315f4d2169aa799": {
          "model_module": "@jupyter-widgets/controls",
          "model_name": "DescriptionStyleModel",
          "model_module_version": "1.5.0",
          "state": {
            "_model_module": "@jupyter-widgets/controls",
            "_model_module_version": "1.5.0",
            "_model_name": "DescriptionStyleModel",
            "_view_count": null,
            "_view_module": "@jupyter-widgets/base",
            "_view_module_version": "1.2.0",
            "_view_name": "StyleView",
            "description_width": ""
          }
        },
        "d3f829f0fbb2434e9a31b0a0c478ff2a": {
          "model_module": "@jupyter-widgets/base",
          "model_name": "LayoutModel",
          "model_module_version": "1.2.0",
          "state": {
            "_model_module": "@jupyter-widgets/base",
            "_model_module_version": "1.2.0",
            "_model_name": "LayoutModel",
            "_view_count": null,
            "_view_module": "@jupyter-widgets/base",
            "_view_module_version": "1.2.0",
            "_view_name": "LayoutView",
            "align_content": null,
            "align_items": null,
            "align_self": null,
            "border": null,
            "bottom": null,
            "display": null,
            "flex": null,
            "flex_flow": null,
            "grid_area": null,
            "grid_auto_columns": null,
            "grid_auto_flow": null,
            "grid_auto_rows": null,
            "grid_column": null,
            "grid_gap": null,
            "grid_row": null,
            "grid_template_areas": null,
            "grid_template_columns": null,
            "grid_template_rows": null,
            "height": null,
            "justify_content": null,
            "justify_items": null,
            "left": null,
            "margin": null,
            "max_height": null,
            "max_width": null,
            "min_height": null,
            "min_width": null,
            "object_fit": null,
            "object_position": null,
            "order": null,
            "overflow": null,
            "overflow_x": null,
            "overflow_y": null,
            "padding": null,
            "right": null,
            "top": null,
            "visibility": null,
            "width": null
          }
        },
        "7e3913fd9318489b97935b73e59c965c": {
          "model_module": "@jupyter-widgets/controls",
          "model_name": "ProgressStyleModel",
          "model_module_version": "1.5.0",
          "state": {
            "_model_module": "@jupyter-widgets/controls",
            "_model_module_version": "1.5.0",
            "_model_name": "ProgressStyleModel",
            "_view_count": null,
            "_view_module": "@jupyter-widgets/base",
            "_view_module_version": "1.2.0",
            "_view_name": "StyleView",
            "bar_color": null,
            "description_width": ""
          }
        },
        "c75b031466c1401c844dc6cebea67ffa": {
          "model_module": "@jupyter-widgets/base",
          "model_name": "LayoutModel",
          "model_module_version": "1.2.0",
          "state": {
            "_model_module": "@jupyter-widgets/base",
            "_model_module_version": "1.2.0",
            "_model_name": "LayoutModel",
            "_view_count": null,
            "_view_module": "@jupyter-widgets/base",
            "_view_module_version": "1.2.0",
            "_view_name": "LayoutView",
            "align_content": null,
            "align_items": null,
            "align_self": null,
            "border": null,
            "bottom": null,
            "display": null,
            "flex": null,
            "flex_flow": null,
            "grid_area": null,
            "grid_auto_columns": null,
            "grid_auto_flow": null,
            "grid_auto_rows": null,
            "grid_column": null,
            "grid_gap": null,
            "grid_row": null,
            "grid_template_areas": null,
            "grid_template_columns": null,
            "grid_template_rows": null,
            "height": null,
            "justify_content": null,
            "justify_items": null,
            "left": null,
            "margin": null,
            "max_height": null,
            "max_width": null,
            "min_height": null,
            "min_width": null,
            "object_fit": null,
            "object_position": null,
            "order": null,
            "overflow": null,
            "overflow_x": null,
            "overflow_y": null,
            "padding": null,
            "right": null,
            "top": null,
            "visibility": null,
            "width": null
          }
        },
        "20bfad6a47074a24a5a1c9b16495c806": {
          "model_module": "@jupyter-widgets/controls",
          "model_name": "DescriptionStyleModel",
          "model_module_version": "1.5.0",
          "state": {
            "_model_module": "@jupyter-widgets/controls",
            "_model_module_version": "1.5.0",
            "_model_name": "DescriptionStyleModel",
            "_view_count": null,
            "_view_module": "@jupyter-widgets/base",
            "_view_module_version": "1.2.0",
            "_view_name": "StyleView",
            "description_width": ""
          }
        },
        "15755ca9cf2a4fb48ca8ec248fd3e345": {
          "model_module": "@jupyter-widgets/controls",
          "model_name": "HBoxModel",
          "model_module_version": "1.5.0",
          "state": {
            "_dom_classes": [],
            "_model_module": "@jupyter-widgets/controls",
            "_model_module_version": "1.5.0",
            "_model_name": "HBoxModel",
            "_view_count": null,
            "_view_module": "@jupyter-widgets/controls",
            "_view_module_version": "1.5.0",
            "_view_name": "HBoxView",
            "box_style": "",
            "children": [
              "IPY_MODEL_be848ec90dd147719721425bb4afd25f",
              "IPY_MODEL_2c5b5ec2ad4c49f7b29b6ce5b043064b",
              "IPY_MODEL_245ba04fc39d4c24a214dc7138f97983"
            ],
            "layout": "IPY_MODEL_e831c1a53d064170a649385d3f9e5031"
          }
        },
        "be848ec90dd147719721425bb4afd25f": {
          "model_module": "@jupyter-widgets/controls",
          "model_name": "HTMLModel",
          "model_module_version": "1.5.0",
          "state": {
            "_dom_classes": [],
            "_model_module": "@jupyter-widgets/controls",
            "_model_module_version": "1.5.0",
            "_model_name": "HTMLModel",
            "_view_count": null,
            "_view_module": "@jupyter-widgets/controls",
            "_view_module_version": "1.5.0",
            "_view_name": "HTMLView",
            "description": "",
            "description_tooltip": null,
            "layout": "IPY_MODEL_e14cde524ab2448cb3b23d05ff790264",
            "placeholder": "​",
            "style": "IPY_MODEL_53fd23314d714ad6a9456c8248ad7067",
            "value": "100%"
          }
        },
        "2c5b5ec2ad4c49f7b29b6ce5b043064b": {
          "model_module": "@jupyter-widgets/controls",
          "model_name": "FloatProgressModel",
          "model_module_version": "1.5.0",
          "state": {
            "_dom_classes": [],
            "_model_module": "@jupyter-widgets/controls",
            "_model_module_version": "1.5.0",
            "_model_name": "FloatProgressModel",
            "_view_count": null,
            "_view_module": "@jupyter-widgets/controls",
            "_view_module_version": "1.5.0",
            "_view_name": "ProgressView",
            "bar_style": "success",
            "description": "",
            "description_tooltip": null,
            "layout": "IPY_MODEL_2291bc28babb4ecca57c54582ee0873d",
            "max": 1648877,
            "min": 0,
            "orientation": "horizontal",
            "style": "IPY_MODEL_886f64e8f7b8423ab287beb398c17cbb",
            "value": 1648877
          }
        },
        "245ba04fc39d4c24a214dc7138f97983": {
          "model_module": "@jupyter-widgets/controls",
          "model_name": "HTMLModel",
          "model_module_version": "1.5.0",
          "state": {
            "_dom_classes": [],
            "_model_module": "@jupyter-widgets/controls",
            "_model_module_version": "1.5.0",
            "_model_name": "HTMLModel",
            "_view_count": null,
            "_view_module": "@jupyter-widgets/controls",
            "_view_module_version": "1.5.0",
            "_view_name": "HTMLView",
            "description": "",
            "description_tooltip": null,
            "layout": "IPY_MODEL_6d4b365b17a34ee6961c3b5b7b958aea",
            "placeholder": "​",
            "style": "IPY_MODEL_dc882325434842fb9879fb6754379b3f",
            "value": " 1648877/1648877 [00:00&lt;00:00, 57606025.54it/s]"
          }
        },
        "e831c1a53d064170a649385d3f9e5031": {
          "model_module": "@jupyter-widgets/base",
          "model_name": "LayoutModel",
          "model_module_version": "1.2.0",
          "state": {
            "_model_module": "@jupyter-widgets/base",
            "_model_module_version": "1.2.0",
            "_model_name": "LayoutModel",
            "_view_count": null,
            "_view_module": "@jupyter-widgets/base",
            "_view_module_version": "1.2.0",
            "_view_name": "LayoutView",
            "align_content": null,
            "align_items": null,
            "align_self": null,
            "border": null,
            "bottom": null,
            "display": null,
            "flex": null,
            "flex_flow": null,
            "grid_area": null,
            "grid_auto_columns": null,
            "grid_auto_flow": null,
            "grid_auto_rows": null,
            "grid_column": null,
            "grid_gap": null,
            "grid_row": null,
            "grid_template_areas": null,
            "grid_template_columns": null,
            "grid_template_rows": null,
            "height": null,
            "justify_content": null,
            "justify_items": null,
            "left": null,
            "margin": null,
            "max_height": null,
            "max_width": null,
            "min_height": null,
            "min_width": null,
            "object_fit": null,
            "object_position": null,
            "order": null,
            "overflow": null,
            "overflow_x": null,
            "overflow_y": null,
            "padding": null,
            "right": null,
            "top": null,
            "visibility": null,
            "width": null
          }
        },
        "e14cde524ab2448cb3b23d05ff790264": {
          "model_module": "@jupyter-widgets/base",
          "model_name": "LayoutModel",
          "model_module_version": "1.2.0",
          "state": {
            "_model_module": "@jupyter-widgets/base",
            "_model_module_version": "1.2.0",
            "_model_name": "LayoutModel",
            "_view_count": null,
            "_view_module": "@jupyter-widgets/base",
            "_view_module_version": "1.2.0",
            "_view_name": "LayoutView",
            "align_content": null,
            "align_items": null,
            "align_self": null,
            "border": null,
            "bottom": null,
            "display": null,
            "flex": null,
            "flex_flow": null,
            "grid_area": null,
            "grid_auto_columns": null,
            "grid_auto_flow": null,
            "grid_auto_rows": null,
            "grid_column": null,
            "grid_gap": null,
            "grid_row": null,
            "grid_template_areas": null,
            "grid_template_columns": null,
            "grid_template_rows": null,
            "height": null,
            "justify_content": null,
            "justify_items": null,
            "left": null,
            "margin": null,
            "max_height": null,
            "max_width": null,
            "min_height": null,
            "min_width": null,
            "object_fit": null,
            "object_position": null,
            "order": null,
            "overflow": null,
            "overflow_x": null,
            "overflow_y": null,
            "padding": null,
            "right": null,
            "top": null,
            "visibility": null,
            "width": null
          }
        },
        "53fd23314d714ad6a9456c8248ad7067": {
          "model_module": "@jupyter-widgets/controls",
          "model_name": "DescriptionStyleModel",
          "model_module_version": "1.5.0",
          "state": {
            "_model_module": "@jupyter-widgets/controls",
            "_model_module_version": "1.5.0",
            "_model_name": "DescriptionStyleModel",
            "_view_count": null,
            "_view_module": "@jupyter-widgets/base",
            "_view_module_version": "1.2.0",
            "_view_name": "StyleView",
            "description_width": ""
          }
        },
        "2291bc28babb4ecca57c54582ee0873d": {
          "model_module": "@jupyter-widgets/base",
          "model_name": "LayoutModel",
          "model_module_version": "1.2.0",
          "state": {
            "_model_module": "@jupyter-widgets/base",
            "_model_module_version": "1.2.0",
            "_model_name": "LayoutModel",
            "_view_count": null,
            "_view_module": "@jupyter-widgets/base",
            "_view_module_version": "1.2.0",
            "_view_name": "LayoutView",
            "align_content": null,
            "align_items": null,
            "align_self": null,
            "border": null,
            "bottom": null,
            "display": null,
            "flex": null,
            "flex_flow": null,
            "grid_area": null,
            "grid_auto_columns": null,
            "grid_auto_flow": null,
            "grid_auto_rows": null,
            "grid_column": null,
            "grid_gap": null,
            "grid_row": null,
            "grid_template_areas": null,
            "grid_template_columns": null,
            "grid_template_rows": null,
            "height": null,
            "justify_content": null,
            "justify_items": null,
            "left": null,
            "margin": null,
            "max_height": null,
            "max_width": null,
            "min_height": null,
            "min_width": null,
            "object_fit": null,
            "object_position": null,
            "order": null,
            "overflow": null,
            "overflow_x": null,
            "overflow_y": null,
            "padding": null,
            "right": null,
            "top": null,
            "visibility": null,
            "width": null
          }
        },
        "886f64e8f7b8423ab287beb398c17cbb": {
          "model_module": "@jupyter-widgets/controls",
          "model_name": "ProgressStyleModel",
          "model_module_version": "1.5.0",
          "state": {
            "_model_module": "@jupyter-widgets/controls",
            "_model_module_version": "1.5.0",
            "_model_name": "ProgressStyleModel",
            "_view_count": null,
            "_view_module": "@jupyter-widgets/base",
            "_view_module_version": "1.2.0",
            "_view_name": "StyleView",
            "bar_color": null,
            "description_width": ""
          }
        },
        "6d4b365b17a34ee6961c3b5b7b958aea": {
          "model_module": "@jupyter-widgets/base",
          "model_name": "LayoutModel",
          "model_module_version": "1.2.0",
          "state": {
            "_model_module": "@jupyter-widgets/base",
            "_model_module_version": "1.2.0",
            "_model_name": "LayoutModel",
            "_view_count": null,
            "_view_module": "@jupyter-widgets/base",
            "_view_module_version": "1.2.0",
            "_view_name": "LayoutView",
            "align_content": null,
            "align_items": null,
            "align_self": null,
            "border": null,
            "bottom": null,
            "display": null,
            "flex": null,
            "flex_flow": null,
            "grid_area": null,
            "grid_auto_columns": null,
            "grid_auto_flow": null,
            "grid_auto_rows": null,
            "grid_column": null,
            "grid_gap": null,
            "grid_row": null,
            "grid_template_areas": null,
            "grid_template_columns": null,
            "grid_template_rows": null,
            "height": null,
            "justify_content": null,
            "justify_items": null,
            "left": null,
            "margin": null,
            "max_height": null,
            "max_width": null,
            "min_height": null,
            "min_width": null,
            "object_fit": null,
            "object_position": null,
            "order": null,
            "overflow": null,
            "overflow_x": null,
            "overflow_y": null,
            "padding": null,
            "right": null,
            "top": null,
            "visibility": null,
            "width": null
          }
        },
        "dc882325434842fb9879fb6754379b3f": {
          "model_module": "@jupyter-widgets/controls",
          "model_name": "DescriptionStyleModel",
          "model_module_version": "1.5.0",
          "state": {
            "_model_module": "@jupyter-widgets/controls",
            "_model_module_version": "1.5.0",
            "_model_name": "DescriptionStyleModel",
            "_view_count": null,
            "_view_module": "@jupyter-widgets/base",
            "_view_module_version": "1.2.0",
            "_view_name": "StyleView",
            "description_width": ""
          }
        },
        "bf7de4cde2944fb6bf7b806d4e777a5e": {
          "model_module": "@jupyter-widgets/controls",
          "model_name": "HBoxModel",
          "model_module_version": "1.5.0",
          "state": {
            "_dom_classes": [],
            "_model_module": "@jupyter-widgets/controls",
            "_model_module_version": "1.5.0",
            "_model_name": "HBoxModel",
            "_view_count": null,
            "_view_module": "@jupyter-widgets/controls",
            "_view_module_version": "1.5.0",
            "_view_name": "HBoxView",
            "box_style": "",
            "children": [
              "IPY_MODEL_35d2eb3d4f8b43809ae35dbd6b9820fa",
              "IPY_MODEL_68eb797ed5634abc8a11ed919a7a3968",
              "IPY_MODEL_db21090d04da463eab79029200472439"
            ],
            "layout": "IPY_MODEL_80c161857e45498eb8fe2c841f0c5a5f"
          }
        },
        "35d2eb3d4f8b43809ae35dbd6b9820fa": {
          "model_module": "@jupyter-widgets/controls",
          "model_name": "HTMLModel",
          "model_module_version": "1.5.0",
          "state": {
            "_dom_classes": [],
            "_model_module": "@jupyter-widgets/controls",
            "_model_module_version": "1.5.0",
            "_model_name": "HTMLModel",
            "_view_count": null,
            "_view_module": "@jupyter-widgets/controls",
            "_view_module_version": "1.5.0",
            "_view_name": "HTMLView",
            "description": "",
            "description_tooltip": null,
            "layout": "IPY_MODEL_c7cdc8fd04fa45889391bb460b3f8e4a",
            "placeholder": "​",
            "style": "IPY_MODEL_a71703e56788420ca7b0445faba67852",
            "value": "100%"
          }
        },
        "68eb797ed5634abc8a11ed919a7a3968": {
          "model_module": "@jupyter-widgets/controls",
          "model_name": "FloatProgressModel",
          "model_module_version": "1.5.0",
          "state": {
            "_dom_classes": [],
            "_model_module": "@jupyter-widgets/controls",
            "_model_module_version": "1.5.0",
            "_model_name": "FloatProgressModel",
            "_view_count": null,
            "_view_module": "@jupyter-widgets/controls",
            "_view_module_version": "1.5.0",
            "_view_name": "ProgressView",
            "bar_style": "success",
            "description": "",
            "description_tooltip": null,
            "layout": "IPY_MODEL_a4efc8e73b964755b613c5558ade1c0b",
            "max": 4542,
            "min": 0,
            "orientation": "horizontal",
            "style": "IPY_MODEL_dfc05891fb7842e3abbecd5470ec4abf",
            "value": 4542
          }
        },
        "db21090d04da463eab79029200472439": {
          "model_module": "@jupyter-widgets/controls",
          "model_name": "HTMLModel",
          "model_module_version": "1.5.0",
          "state": {
            "_dom_classes": [],
            "_model_module": "@jupyter-widgets/controls",
            "_model_module_version": "1.5.0",
            "_model_name": "HTMLModel",
            "_view_count": null,
            "_view_module": "@jupyter-widgets/controls",
            "_view_module_version": "1.5.0",
            "_view_name": "HTMLView",
            "description": "",
            "description_tooltip": null,
            "layout": "IPY_MODEL_13f96901ed4c40b6a816fbdf32aafc1e",
            "placeholder": "​",
            "style": "IPY_MODEL_54f83ce6337742cf854b2682236284ec",
            "value": " 4542/4542 [00:00&lt;00:00, 107340.83it/s]"
          }
        },
        "80c161857e45498eb8fe2c841f0c5a5f": {
          "model_module": "@jupyter-widgets/base",
          "model_name": "LayoutModel",
          "model_module_version": "1.2.0",
          "state": {
            "_model_module": "@jupyter-widgets/base",
            "_model_module_version": "1.2.0",
            "_model_name": "LayoutModel",
            "_view_count": null,
            "_view_module": "@jupyter-widgets/base",
            "_view_module_version": "1.2.0",
            "_view_name": "LayoutView",
            "align_content": null,
            "align_items": null,
            "align_self": null,
            "border": null,
            "bottom": null,
            "display": null,
            "flex": null,
            "flex_flow": null,
            "grid_area": null,
            "grid_auto_columns": null,
            "grid_auto_flow": null,
            "grid_auto_rows": null,
            "grid_column": null,
            "grid_gap": null,
            "grid_row": null,
            "grid_template_areas": null,
            "grid_template_columns": null,
            "grid_template_rows": null,
            "height": null,
            "justify_content": null,
            "justify_items": null,
            "left": null,
            "margin": null,
            "max_height": null,
            "max_width": null,
            "min_height": null,
            "min_width": null,
            "object_fit": null,
            "object_position": null,
            "order": null,
            "overflow": null,
            "overflow_x": null,
            "overflow_y": null,
            "padding": null,
            "right": null,
            "top": null,
            "visibility": null,
            "width": null
          }
        },
        "c7cdc8fd04fa45889391bb460b3f8e4a": {
          "model_module": "@jupyter-widgets/base",
          "model_name": "LayoutModel",
          "model_module_version": "1.2.0",
          "state": {
            "_model_module": "@jupyter-widgets/base",
            "_model_module_version": "1.2.0",
            "_model_name": "LayoutModel",
            "_view_count": null,
            "_view_module": "@jupyter-widgets/base",
            "_view_module_version": "1.2.0",
            "_view_name": "LayoutView",
            "align_content": null,
            "align_items": null,
            "align_self": null,
            "border": null,
            "bottom": null,
            "display": null,
            "flex": null,
            "flex_flow": null,
            "grid_area": null,
            "grid_auto_columns": null,
            "grid_auto_flow": null,
            "grid_auto_rows": null,
            "grid_column": null,
            "grid_gap": null,
            "grid_row": null,
            "grid_template_areas": null,
            "grid_template_columns": null,
            "grid_template_rows": null,
            "height": null,
            "justify_content": null,
            "justify_items": null,
            "left": null,
            "margin": null,
            "max_height": null,
            "max_width": null,
            "min_height": null,
            "min_width": null,
            "object_fit": null,
            "object_position": null,
            "order": null,
            "overflow": null,
            "overflow_x": null,
            "overflow_y": null,
            "padding": null,
            "right": null,
            "top": null,
            "visibility": null,
            "width": null
          }
        },
        "a71703e56788420ca7b0445faba67852": {
          "model_module": "@jupyter-widgets/controls",
          "model_name": "DescriptionStyleModel",
          "model_module_version": "1.5.0",
          "state": {
            "_model_module": "@jupyter-widgets/controls",
            "_model_module_version": "1.5.0",
            "_model_name": "DescriptionStyleModel",
            "_view_count": null,
            "_view_module": "@jupyter-widgets/base",
            "_view_module_version": "1.2.0",
            "_view_name": "StyleView",
            "description_width": ""
          }
        },
        "a4efc8e73b964755b613c5558ade1c0b": {
          "model_module": "@jupyter-widgets/base",
          "model_name": "LayoutModel",
          "model_module_version": "1.2.0",
          "state": {
            "_model_module": "@jupyter-widgets/base",
            "_model_module_version": "1.2.0",
            "_model_name": "LayoutModel",
            "_view_count": null,
            "_view_module": "@jupyter-widgets/base",
            "_view_module_version": "1.2.0",
            "_view_name": "LayoutView",
            "align_content": null,
            "align_items": null,
            "align_self": null,
            "border": null,
            "bottom": null,
            "display": null,
            "flex": null,
            "flex_flow": null,
            "grid_area": null,
            "grid_auto_columns": null,
            "grid_auto_flow": null,
            "grid_auto_rows": null,
            "grid_column": null,
            "grid_gap": null,
            "grid_row": null,
            "grid_template_areas": null,
            "grid_template_columns": null,
            "grid_template_rows": null,
            "height": null,
            "justify_content": null,
            "justify_items": null,
            "left": null,
            "margin": null,
            "max_height": null,
            "max_width": null,
            "min_height": null,
            "min_width": null,
            "object_fit": null,
            "object_position": null,
            "order": null,
            "overflow": null,
            "overflow_x": null,
            "overflow_y": null,
            "padding": null,
            "right": null,
            "top": null,
            "visibility": null,
            "width": null
          }
        },
        "dfc05891fb7842e3abbecd5470ec4abf": {
          "model_module": "@jupyter-widgets/controls",
          "model_name": "ProgressStyleModel",
          "model_module_version": "1.5.0",
          "state": {
            "_model_module": "@jupyter-widgets/controls",
            "_model_module_version": "1.5.0",
            "_model_name": "ProgressStyleModel",
            "_view_count": null,
            "_view_module": "@jupyter-widgets/base",
            "_view_module_version": "1.2.0",
            "_view_name": "StyleView",
            "bar_color": null,
            "description_width": ""
          }
        },
        "13f96901ed4c40b6a816fbdf32aafc1e": {
          "model_module": "@jupyter-widgets/base",
          "model_name": "LayoutModel",
          "model_module_version": "1.2.0",
          "state": {
            "_model_module": "@jupyter-widgets/base",
            "_model_module_version": "1.2.0",
            "_model_name": "LayoutModel",
            "_view_count": null,
            "_view_module": "@jupyter-widgets/base",
            "_view_module_version": "1.2.0",
            "_view_name": "LayoutView",
            "align_content": null,
            "align_items": null,
            "align_self": null,
            "border": null,
            "bottom": null,
            "display": null,
            "flex": null,
            "flex_flow": null,
            "grid_area": null,
            "grid_auto_columns": null,
            "grid_auto_flow": null,
            "grid_auto_rows": null,
            "grid_column": null,
            "grid_gap": null,
            "grid_row": null,
            "grid_template_areas": null,
            "grid_template_columns": null,
            "grid_template_rows": null,
            "height": null,
            "justify_content": null,
            "justify_items": null,
            "left": null,
            "margin": null,
            "max_height": null,
            "max_width": null,
            "min_height": null,
            "min_width": null,
            "object_fit": null,
            "object_position": null,
            "order": null,
            "overflow": null,
            "overflow_x": null,
            "overflow_y": null,
            "padding": null,
            "right": null,
            "top": null,
            "visibility": null,
            "width": null
          }
        },
        "54f83ce6337742cf854b2682236284ec": {
          "model_module": "@jupyter-widgets/controls",
          "model_name": "DescriptionStyleModel",
          "model_module_version": "1.5.0",
          "state": {
            "_model_module": "@jupyter-widgets/controls",
            "_model_module_version": "1.5.0",
            "_model_name": "DescriptionStyleModel",
            "_view_count": null,
            "_view_module": "@jupyter-widgets/base",
            "_view_module_version": "1.2.0",
            "_view_name": "StyleView",
            "description_width": ""
          }
        }
      }
    }
  },
  "nbformat": 4,
  "nbformat_minor": 0
}