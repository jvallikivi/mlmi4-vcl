{
  "cells": [
    {
      "cell_type": "markdown",
      "metadata": {
        "id": "b9PaA-oFq8TB"
      },
      "source": [
        "In this notebook, I use TyXe and Pyro to implement VCL on CNNs. The dataset is split-Cifar dataset. \n",
        "\n",
        "\n",
        "The basic logic of pyro is to define a \"model\" representing the prior + likelihood, and a \"guide\" representing the posterior. Then VI will be executed automatically by SGD."
      ]
    },
    {
      "cell_type": "code",
      "execution_count": 1,
      "metadata": {
        "id": "9lRp057lzV0r"
      },
      "outputs": [],
      "source": [
        "device = \"cuda\" "
      ]
    },
    {
      "cell_type": "markdown",
      "metadata": {
        "id": "pMSUQQ_Trd8o"
      },
      "source": [
        "## install packages"
      ]
    },
    {
      "cell_type": "code",
      "execution_count": 2,
      "metadata": {
        "colab": {
          "base_uri": "https://localhost:8080/"
        },
        "id": "SNVzCIs-rh8k",
        "outputId": "15891587-7f54-4c92-94a4-f74625994314"
      },
      "outputs": [
        {
          "output_type": "stream",
          "name": "stdout",
          "text": [
            "Looking in indexes: https://pypi.org/simple, https://us-python.pkg.dev/colab-wheels/public/simple/\n",
            "Requirement already satisfied: pyro-ppl in /usr/local/lib/python3.9/dist-packages (1.8.4)\n",
            "Requirement already satisfied: pyro-api>=0.1.1 in /usr/local/lib/python3.9/dist-packages (from pyro-ppl) (0.1.2)\n",
            "Requirement already satisfied: torch>=1.11.0 in /usr/local/lib/python3.9/dist-packages (from pyro-ppl) (1.13.1+cu116)\n",
            "Requirement already satisfied: opt-einsum>=2.3.2 in /usr/local/lib/python3.9/dist-packages (from pyro-ppl) (3.3.0)\n",
            "Requirement already satisfied: tqdm>=4.36 in /usr/local/lib/python3.9/dist-packages (from pyro-ppl) (4.65.0)\n",
            "Requirement already satisfied: numpy>=1.7 in /usr/local/lib/python3.9/dist-packages (from pyro-ppl) (1.22.4)\n",
            "Requirement already satisfied: typing-extensions in /usr/local/lib/python3.9/dist-packages (from torch>=1.11.0->pyro-ppl) (4.5.0)\n",
            "fatal: destination path 'TyXe' already exists and is not an empty directory.\n"
          ]
        }
      ],
      "source": [
        "! pip install pyro-ppl\n",
        "! git clone https://github.com/TyXe-BDL/TyXe.git"
      ]
    },
    {
      "cell_type": "markdown",
      "metadata": {
        "id": "0fK_IVryszje"
      },
      "source": [
        "## Import Packages"
      ]
    },
    {
      "cell_type": "code",
      "execution_count": 3,
      "metadata": {
        "colab": {
          "base_uri": "https://localhost:8080/"
        },
        "id": "QFt7rc9VN966",
        "outputId": "a22d14e9-d953-44a4-cc22-23a84e7d5aa3"
      },
      "outputs": [
        {
          "output_type": "stream",
          "name": "stdout",
          "text": [
            "/content/TyXe\n"
          ]
        }
      ],
      "source": [
        "%cd /content/TyXe"
      ]
    },
    {
      "cell_type": "code",
      "execution_count": 4,
      "metadata": {
        "id": "psqtgYU1s2Po"
      },
      "outputs": [],
      "source": [
        "import os\n",
        "import torch\n",
        "import numpy as np\n",
        "from torch import nn\n",
        "from torchvision import datasets, transforms\n",
        "from torchvision.models import resnet18\n",
        "from tqdm import tqdm\n",
        "from copy import deepcopy\n",
        "import matplotlib.pyplot as plt\n",
        "\n",
        "import tyxe\n",
        "import functools\n",
        "\n",
        "import pyro\n",
        "import pyro.nn as pynn\n",
        "import pyro.poutine as poutine\n",
        "from pyro import distributions as dist\n",
        "from pyro.infer import SVI, Trace_ELBO, TraceMeanField_ELBO, MCMC\n",
        "\n",
        "import pyro.infer.autoguide.initialization as ag_init\n"
      ]
    },
    {
      "cell_type": "markdown",
      "metadata": {
        "id": "Nmv80PJ3rl7y"
      },
      "source": [
        "## Load data"
      ]
    },
    {
      "cell_type": "code",
      "execution_count": 5,
      "metadata": {
        "id": "emX11nPHq349"
      },
      "outputs": [],
      "source": [
        "import torch\n",
        "from torch import nn\n",
        "from torch.utils.data import random_split\n",
        "import numpy as np\n",
        "from tqdm import tqdm\n",
        "import matplotlib.pyplot as plt\n",
        "from torchvision.datasets import ImageFolder\n",
        "from torchvision import transforms\n",
        "import os, tarfile\n",
        "from torchvision import datasets\n",
        "\n",
        "def get_split_notMNIST(task_idx, device, train, test):\n",
        "    # \"The notMNIST dataset contains 400,000 images of the characters from \n",
        "    #  A to J with different font styles. We consider ﬁve binary classiﬁcation \n",
        "    #  tasks: A/F, B/G, C/H, D/I, and E/J\"\n",
        "\n",
        "    labels = (task_idx, task_idx + 5) # labels are 0 to 9 for A to J in order\n",
        "    ds_train_filtered = list(filter(lambda item: item[1] in labels, train))\n",
        "    ds_test_filtered = list(filter(lambda item: item[1] in labels, test))\n",
        "    train_x = nn.Flatten()(torch.cat([d[0] for d in ds_train_filtered]))\n",
        "    train_y = torch.tensor([0 if d[1] == task_idx else 1 for d in ds_train_filtered])\n",
        "    \n",
        "    test_x = nn.Flatten()(torch.cat([d[0] for d in ds_test_filtered]))\n",
        "    test_y = torch.tensor([0 if d[1] == task_idx else 1 for d in ds_test_filtered])\n",
        "\n",
        "    return train_x.to(device), train_y.to(device), test_x.to(device), test_y.to(device)\n",
        "\n",
        "def get_split_MNIST(task_idx, device, train, test):\n",
        "    labels = np.array_split(range(0, 10), 5)[task_idx]\n",
        "    train_filtered = list(filter(lambda item: item[1] in labels, train))\n",
        "    test_filtered = list(filter(lambda item: item[1] in labels, test))\n",
        "    train_x = nn.Flatten()(torch.cat([d[0] for d in train_filtered]))\n",
        "    train_y = torch.tensor([d[1] - task_idx * 2 for d in train_filtered])\n",
        "    \n",
        "    test_x = nn.Flatten()(torch.cat([d[0] for d in test_filtered]))\n",
        "    test_y = torch.tensor([d[1] - task_idx * 2 for d in test_filtered])\n",
        "\n",
        "    return train_x.to(device), train_y.to(device), test_x.to(device), test_y.to(device)\n",
        "\n",
        "def get_split_CIFAR10(task_idx, device, train, test):\n",
        "    labels = np.array_split(range(0, 10), 5)[task_idx]\n",
        "    train_filtered = list(filter(lambda item: item[1] in labels, train))\n",
        "    test_filtered = list(filter(lambda item: item[1] in labels, test))\n",
        "    train_x = torch.cat([d[0][None, :, :, :] for d in train_filtered])\n",
        "    train_y = torch.tensor([d[1] - task_idx * 2 for d in train_filtered])\n",
        "    \n",
        "    test_x = torch.cat([d[0][None, :, :, :] for d in test_filtered])\n",
        "    test_y = torch.tensor([d[1] - task_idx * 2 for d in test_filtered])\n",
        "\n",
        "    return train_x.to(device), train_y.to(device), test_x.to(device), test_y.to(device)\n",
        "\n",
        "\n",
        "class MultiTaskDataset:\n",
        "    def __init__(self, dataset_name: str, device: str):\n",
        "        if dataset_name == 'split MNIST':\n",
        "            self.train = datasets.MNIST(\"./data\", train=True, transform=transforms.ToTensor(), download=True)\n",
        "            self.test = datasets.MNIST(\"./data\", train=False, transform=transforms.ToTensor(), download=True)\n",
        "        elif dataset_name == 'split notMNIST':\n",
        "            tar_file = './data/notMNIST_small.tar.gz'\n",
        "            folder = './data/notMNIST_small'\n",
        "            if not os.path.exists(folder):\n",
        "                if not os.path.exists(tar_file):\n",
        "                    raise Exception(\"notMNIST dataset is missing, download at: https://www.kaggle.com/datasets/lubaroli/notmnist\")\n",
        "                with tarfile.open(tar_file) as f:\n",
        "                    f.extractall('./data/')\n",
        "                assert os.path.exists(folder), \"Something went wrong with extraction.\"\n",
        "\n",
        "            # these are some empty images\n",
        "            empty_files = ['A/RGVtb2NyYXRpY2FCb2xkT2xkc3R5bGUgQm9sZC50dGY=.png', 'F/Q3Jvc3NvdmVyIEJvbGRPYmxpcXVlLnR0Zg==.png']\n",
        "            for file_name in empty_files:\n",
        "                file_name = f\"{folder}/{file_name}\"\n",
        "                if os.path.exists(file_name):\n",
        "                    os.remove(file_name)\n",
        "\n",
        "\n",
        "            transform = transforms.Compose([\n",
        "                transforms.Grayscale(num_output_channels=1),\n",
        "                transforms.ToTensor()\n",
        "            ])\n",
        "\n",
        "            image_folder = ImageFolder(folder, transform=transform)\n",
        "\n",
        "            # Same split ratio as in MNIST\n",
        "            self.train, self.test = random_split(image_folder, [1 - 0.143, 0.143], generator=torch.Generator().manual_seed(0))\n",
        "        elif dataset_name == 'split CIFAR-10':\n",
        "            self.train = datasets.CIFAR10(\"./data\", train=True, transform=transforms.ToTensor(), download=True)\n",
        "            self.test = datasets.CIFAR10(\"./data\", train=False, transform=transforms.ToTensor(), download=True)\n",
        "        else:\n",
        "            raise ValueError(f\"Unknown dataset: {dataset_name}\")\n",
        "        \n",
        "        self.dataset_name = dataset_name\n",
        "        self.device = device\n",
        "        \n",
        "    def get_task_dataset(self, task_idx: int):\n",
        "        if self.dataset_name == 'split MNIST':\n",
        "            return get_split_MNIST(task_idx, self.device, self.train, self.test)\n",
        "        elif self.dataset_name == 'split notMNIST':\n",
        "            return get_split_notMNIST(task_idx, self.device, self.train, self.test)\n",
        "        elif self.dataset_name == 'split CIFAR-10':\n",
        "            return get_split_CIFAR10(task_idx, self.device, self.train, self.test)\n",
        "        else:\n",
        "            raise ValueError(f\"Unknown dataset: {self.dataset_name}\")"
      ]
    },
    {
      "cell_type": "code",
      "execution_count": 6,
      "metadata": {
        "colab": {
          "base_uri": "https://localhost:8080/"
        },
        "id": "5kgy3r5SYtyO",
        "outputId": "f19b35a6-3cbe-45d9-bfa4-11c6dd77e55d"
      },
      "outputs": [
        {
          "output_type": "stream",
          "name": "stdout",
          "text": [
            "Files already downloaded and verified\n",
            "Files already downloaded and verified\n"
          ]
        }
      ],
      "source": [
        "ds = MultiTaskDataset(dataset_name='split CIFAR-10', device=device)"
      ]
    },
    {
      "cell_type": "markdown",
      "metadata": {
        "id": "NZ_hlEabtPTR"
      },
      "source": [
        "## Define Networks and Likelihoods"
      ]
    },
    {
      "cell_type": "code",
      "execution_count": 7,
      "metadata": {
        "id": "qza1Bdhx0Rgq"
      },
      "outputs": [],
      "source": [
        "# define a class, converting the network to a BNN distribution\n",
        "class ModelBNN(pynn.PyroModule):\n",
        "    def __init__(self, net, prior, name=\"\"):\n",
        "        super().__init__(name)\n",
        "        self.net = net\n",
        "        pynn.module.to_pyro_module_(self.net)\n",
        "        self.prior = prior\n",
        "        self.prior.apply_(self.net)\n",
        "    def forward(self, *args, **kwargs):\n",
        "        return self.net(*args, **kwargs)\n",
        "    def update_prior(self, new_prior):\n",
        "        self.prior = new_prior\n",
        "        self.prior.update_(self)"
      ]
    },
    {
      "cell_type": "code",
      "execution_count": 8,
      "metadata": {
        "id": "1hPkEPbMcvXM"
      },
      "outputs": [],
      "source": [
        "# define the network here...\n",
        "# I called it resnet because i am too lazy to change the name\n",
        "# it can be any network \n",
        "\n",
        "class MultiHeadResnet(nn.Module):\n",
        "    def __init__(self, head_nums):\n",
        "        super().__init__()\n",
        "        self.net = nn.Sequential()\n",
        "        self.net.add_module(\"conv1\", nn.Conv2d(3, 32, 3, padding=1))\n",
        "        self.net.add_module(\"act1\", nn.ReLU())\n",
        "        self.net.add_module(\"conv2\", nn.Conv2d(32, 32, 3, padding=1))\n",
        "        self.net.add_module(\"act2\", nn.ReLU())\n",
        "        self.net.add_module(\"maxpool1\", nn.MaxPool2d(2))\n",
        "        self.net.add_module(\"conv3\", nn.Conv2d(32, 64, 3, padding=1))\n",
        "        self.net.add_module(\"act3\", nn.ReLU())\n",
        "        self.net.add_module(\"conv4\", nn.Conv2d(64, 64, 3, padding=1))\n",
        "        self.net.add_module(\"act4\", nn.ReLU()) \n",
        "        self.net.add_module(\"maxpool2\", nn.MaxPool2d(2))\n",
        "        self.net.add_module(\"flatten\", nn.Flatten())\n",
        "        self.net.add_module(\"fc\", nn.Linear(4096, 512))\n",
        "        self.net.add_module(\"act5\", nn.ReLU()) \n",
        "\n",
        "        self.heads = nn.ModuleList([nn.Linear(512, 2) for i in range(head_nums)])\n",
        "    def forward(self, x):\n",
        "        h = self.net(x)\n",
        "        logits = torch.cat([i(h)[:, None, :] for i in self.heads], dim=1)\n",
        "        return logits\n"
      ]
    },
    {
      "cell_type": "code",
      "execution_count": 9,
      "metadata": {
        "id": "Pbf9Ur4kSSgP"
      },
      "outputs": [],
      "source": [
        "def define_resnet():\n",
        "    return MultiHeadResnet(5)"
      ]
    },
    {
      "cell_type": "code",
      "execution_count": 10,
      "metadata": {
        "id": "ti1qEK-u0bGp"
      },
      "outputs": [],
      "source": [
        "# define pyro model\n",
        "def split_MNIST_model(multi_head_net, x, y, task_ids, dataset_size, annealing_factor):\n",
        "    z = multi_head_net(x)[np.arange(x.shape[0]), task_ids, :] # reshape the last dimension into 5 heads\n",
        "    with poutine.scale(None, dataset_size / x.shape[0]):\n",
        "        with pyro.plate(\"batch_size\", x.shape[0], dim=-1):\n",
        "            pyro.sample(\"batch_obs\", dist.Categorical(logits=z), obs=y.long())\n",
        "    return z"
      ]
    },
    {
      "cell_type": "code",
      "execution_count": 11,
      "metadata": {
        "id": "gE5yRVT9Uj9V"
      },
      "outputs": [],
      "source": [
        "def train_model(train_x, \n",
        "                train_y, \n",
        "                train_t, \n",
        "                batch_size,\n",
        "                n_epochs,\n",
        "                pyro_model,\n",
        "                define_net, \n",
        "                last_guide, \n",
        "                random_init_guide,\n",
        "                prior=tyxe.priors.IIDPrior(dist.Normal(torch.tensor(0., device=device), torch.tensor(1., device=device)))):\n",
        "    \"\"\"\n",
        "    a function to train BNN\n",
        "    define_net: python callable, returning a torch nn network\n",
        "    last_guide: if None, use prior; if not None, use it as prior\n",
        "    prior: if last_guide is None. use this as the prior\n",
        "    pyro_model: python callable, defining the pyro model\n",
        "    \"\"\"\n",
        "    \n",
        "    bnn = ModelBNN(define_net(), prior).to(device) # define the bnn model\n",
        "    if last_guide != None:\n",
        "        site_names = tyxe.util.pyro_sample_sites(bnn)\n",
        "        bnn.update_prior(tyxe.priors.DictPrior(last_guide.get_detached_distributions(site_names)))\n",
        "    opt = pyro.optim.ClippedAdam({\"lr\": 0.001}) \n",
        "    if random_init_guide or last_guide == None:\n",
        "        guide = functools.partial(\n",
        "                                  tyxe.guides.AutoNormal,  \n",
        "                                  init_scale=1e-3,  \n",
        "                                  init_loc_fn=ag_init.init_to_sample\n",
        "                                 )(pyro_model)\n",
        "    else:\n",
        "        guide = deepcopy(last_guide)\n",
        "    svi = SVI(pyro_model, guide, opt, Trace_ELBO())\n",
        "    dataset_size = train_x.shape[0]\n",
        "\n",
        "\n",
        "    pyro.clear_param_store()\n",
        "    ELBO = []\n",
        "    for epoch in tqdm(range(n_epochs)):\n",
        "        elbos = []\n",
        "        for batch in range(int(np.ceil(dataset_size / batch_size))):\n",
        "            batch_idx0 = batch * batch_size\n",
        "            batch_idx1 = batch * batch_size + batch_size\n",
        "            batch_x = train_x[batch_idx0: batch_idx1]\n",
        "            batch_y = train_y[batch_idx0: batch_idx1]\n",
        "            batch_t = train_t[batch_idx0: batch_idx1].long()\n",
        "            elbo = svi.step(bnn, \n",
        "                            x=batch_x, \n",
        "                            y=batch_y, \n",
        "                            task_ids=batch_t, \n",
        "                            dataset_size=dataset_size, \n",
        "                            annealing_factor=1)\n",
        "            elbos.append(elbo)\n",
        "        ELBO.append(np.mean(elbos))\n",
        "    return guide, ELBO\n"
      ]
    },
    {
      "cell_type": "code",
      "execution_count": 17,
      "metadata": {
        "id": "9xq7bi9rWwRv"
      },
      "outputs": [],
      "source": [
        "def prediction(test_x, \n",
        "               test_y,\n",
        "               test_t, \n",
        "               define_net, \n",
        "               guide,\n",
        "               n_particles=100):\n",
        "    prior = tyxe.priors.IIDPrior(dist.Normal(torch.tensor(0., device=device), torch.tensor(1., device=device)))\n",
        "    bnn = ModelBNN(define_net(), prior).to(device) # define the bnn model\n",
        "    site_names = tyxe.util.pyro_sample_sites(bnn)\n",
        "    dist_dict = guide.get_detached_distributions(site_names)\n",
        "    bnn.update_prior(tyxe.priors.DictPrior(dist_dict)) # use the guide as the prior\n",
        "\n",
        "    pyro.clear_param_store()\n",
        "    Z = []\n",
        "    for _ in range(n_particles):  \n",
        "        z = bnn(test_x)[np.arange(test_x.shape[0]), test_t, :]\n",
        "        Z.append(z)\n",
        "    pred = torch.stack(Z).mean(0).argmax(-1)\n",
        "    acc = (pred == test_y).cpu().detach().numpy().mean()\n",
        "    return acc"
      ]
    },
    {
      "cell_type": "code",
      "execution_count": 18,
      "metadata": {
        "id": "7gjESlZ_8TZZ"
      },
      "outputs": [],
      "source": [
        "batch_size = 1000000\n",
        "coreset_size = 40\n",
        "coreset_x = None\n",
        "coreset_y = None\n",
        "coreset_t = None\n",
        "\n",
        "\n",
        "Test_x = []\n",
        "Test_y = []\n",
        "Test_t = []\n",
        "\n",
        "Accuracies = {}"
      ]
    },
    {
      "cell_type": "code",
      "execution_count": 19,
      "metadata": {
        "colab": {
          "base_uri": "https://localhost:8080/",
          "height": 1000
        },
        "id": "00YB7XBXXuiK",
        "outputId": "cca77106-489a-4dbd-d854-86edb4e80f62"
      },
      "outputs": [
        {
          "output_type": "stream",
          "name": "stdout",
          "text": [
            "=================== train task 0 ========================\n",
            "Training set contains 10000 Images...\n"
          ]
        },
        {
          "output_type": "stream",
          "name": "stderr",
          "text": [
            "100%|██████████| 500/500 [05:38<00:00,  1.48it/s]\n"
          ]
        },
        {
          "output_type": "display_data",
          "data": {
            "text/plain": [
              "<Figure size 432x288 with 1 Axes>"
            ],
            "image/png": "[encoded data removed]"
          },
          "metadata": {
            "needs_background": "light"
          }
        },
        {
          "output_type": "stream",
          "name": "stdout",
          "text": [
            "The Accuracies of Propogation Model\n",
            "[0.8285]\n"
          ]
        },
        {
          "output_type": "stream",
          "name": "stderr",
          "text": [
            "100%|██████████| 500/500 [00:27<00:00, 17.93it/s]\n"
          ]
        },
        {
          "output_type": "display_data",
          "data": {
            "text/plain": [
              "<Figure size 432x288 with 1 Axes>"
            ],
            "image/png": "[encoded data removed]"
          },
          "metadata": {
            "needs_background": "light"
          }
        },
        {
          "output_type": "stream",
          "name": "stdout",
          "text": [
            "The Accuracies of Predict Model\n",
            "[0.844]\n",
            "=================== train task 1 ========================\n",
            "Training set contains 10000 Images...\n"
          ]
        },
        {
          "output_type": "stream",
          "name": "stderr",
          "text": [
            "100%|██████████| 500/500 [05:38<00:00,  1.48it/s]\n"
          ]
        },
        {
          "output_type": "display_data",
          "data": {
            "text/plain": [
              "<Figure size 432x288 with 1 Axes>"
            ],
            "image/png": "[encoded data removed]"
          },
          "metadata": {
            "needs_background": "light"
          }
        },
        {
          "output_type": "stream",
          "name": "stdout",
          "text": [
            "The Accuracies of Propogation Model\n",
            "[0.649, 0.6935]\n"
          ]
        },
        {
          "output_type": "stream",
          "name": "stderr",
          "text": [
            "100%|██████████| 500/500 [00:27<00:00, 18.10it/s]\n"
          ]
        },
        {
          "output_type": "display_data",
          "data": {
            "text/plain": [
              "<Figure size 432x288 with 1 Axes>"
            ],
            "image/png": "[encoded data removed]"
          },
          "metadata": {
            "needs_background": "light"
          }
        },
        {
          "output_type": "stream",
          "name": "stdout",
          "text": [
            "The Accuracies of Predict Model\n",
            "[0.7875, 0.6735]\n",
            "=================== train task 2 ========================\n",
            "Training set contains 10000 Images...\n"
          ]
        },
        {
          "output_type": "stream",
          "name": "stderr",
          "text": [
            "100%|██████████| 500/500 [05:38<00:00,  1.48it/s]\n"
          ]
        },
        {
          "output_type": "display_data",
          "data": {
            "text/plain": [
              "<Figure size 432x288 with 1 Axes>"
            ],
            "image/png": "[encoded data removed]"
          },
          "metadata": {
            "needs_background": "light"
          }
        },
        {
          "output_type": "stream",
          "name": "stdout",
          "text": [
            "The Accuracies of Propogation Model\n",
            "[0.5925, 0.5525, 0.729]\n"
          ]
        },
        {
          "output_type": "stream",
          "name": "stderr",
          "text": [
            "100%|██████████| 500/500 [00:28<00:00, 17.33it/s]\n"
          ]
        },
        {
          "output_type": "display_data",
          "data": {
            "text/plain": [
              "<Figure size 432x288 with 1 Axes>"
            ],
            "image/png": "[encoded data removed]"
          },
          "metadata": {
            "needs_background": "light"
          }
        },
        {
          "output_type": "stream",
          "name": "stdout",
          "text": [
            "The Accuracies of Predict Model\n",
            "[0.722, 0.622, 0.7]\n",
            "=================== train task 3 ========================\n",
            "Training set contains 10000 Images...\n"
          ]
        },
        {
          "output_type": "stream",
          "name": "stderr",
          "text": [
            "100%|██████████| 500/500 [05:37<00:00,  1.48it/s]\n"
          ]
        },
        {
          "output_type": "display_data",
          "data": {
            "text/plain": [
              "<Figure size 432x288 with 1 Axes>"
            ],
            "image/png": "[encoded data removed]"
          },
          "metadata": {
            "needs_background": "light"
          }
        },
        {
          "output_type": "stream",
          "name": "stdout",
          "text": [
            "The Accuracies of Propogation Model\n",
            "[0.6445, 0.534, 0.7015, 0.8065]\n"
          ]
        },
        {
          "output_type": "stream",
          "name": "stderr",
          "text": [
            "100%|██████████| 500/500 [00:28<00:00, 17.63it/s]\n"
          ]
        },
        {
          "output_type": "display_data",
          "data": {
            "text/plain": [
              "<Figure size 432x288 with 1 Axes>"
            ],
            "image/png": "[encoded data removed]"
          },
          "metadata": {
            "needs_background": "light"
          }
        },
        {
          "output_type": "stream",
          "name": "stdout",
          "text": [
            "The Accuracies of Predict Model\n",
            "[0.707, 0.6165, 0.672, 0.798]\n",
            "=================== train task 4 ========================\n",
            "Training set contains 10000 Images...\n"
          ]
        },
        {
          "output_type": "stream",
          "name": "stderr",
          "text": [
            "100%|██████████| 500/500 [05:36<00:00,  1.49it/s]\n"
          ]
        },
        {
          "output_type": "display_data",
          "data": {
            "text/plain": [
              "<Figure size 432x288 with 1 Axes>"
            ],
            "image/png": "[encoded data removed]"
          },
          "metadata": {
            "needs_background": "light"
          }
        },
        {
          "output_type": "stream",
          "name": "stdout",
          "text": [
            "The Accuracies of Propogation Model\n",
            "[0.6705, 0.5595, 0.5075, 0.6675, 0.8265]\n"
          ]
        },
        {
          "output_type": "stream",
          "name": "stderr",
          "text": [
            "100%|██████████| 500/500 [00:29<00:00, 16.90it/s]\n"
          ]
        },
        {
          "output_type": "display_data",
          "data": {
            "text/plain": [
              "<Figure size 432x288 with 1 Axes>"
            ],
            "image/png": "[encoded data removed]"
          },
          "metadata": {
            "needs_background": "light"
          }
        },
        {
          "output_type": "stream",
          "name": "stdout",
          "text": [
            "The Accuracies of Predict Model\n",
            "[0.697, 0.612, 0.626, 0.73, 0.816]\n"
          ]
        }
      ],
      "source": [
        "for task_idx in range(5):\n",
        "    print(\"=================== train task %d ========================\"%task_idx)\n",
        "    train_x, train_y, test_x, test_y = ds.get_task_dataset(task_idx)\n",
        "    print(\"Training set contains %d Images...\"%train_x.shape[0])\n",
        "    train_x, train_y = train_x, train_y\n",
        "\n",
        "    # select coreset\n",
        "    ###############################################################\n",
        "    # Modify the coreset selection approach below\n",
        "\n",
        "    coreset_idx = np.random.choice(train_x.shape[0], coreset_size, False)\n",
        "\n",
        "\n",
        "    # Modify the coreset selection approach above\n",
        "    ###############################################################\n",
        "\n",
        "\n",
        "    train_idx = np.delete(np.arange(train_x.shape[0]), coreset_idx)\n",
        "\n",
        "    Test_x.append(test_x)\n",
        "    Test_y.append(test_y)\n",
        "    Test_t.append(torch.ones_like(test_y) * task_idx)\n",
        "\n",
        "    if coreset_x == None:\n",
        "        coreset_x = train_x[coreset_idx]\n",
        "        coreset_y = train_y[coreset_idx]\n",
        "        coreset_t = torch.ones_like(train_y[coreset_idx]) * task_idx\n",
        "    else:\n",
        "        coreset_x = torch.cat([train_x[coreset_idx], coreset_x])\n",
        "        coreset_y = torch.cat([train_y[coreset_idx], coreset_y])\n",
        "        coreset_t = torch.cat([torch.ones_like(train_y[coreset_idx]) * task_idx, coreset_t])\n",
        "\n",
        "    train_x = train_x[train_idx]\n",
        "    train_y = train_y[train_idx]\n",
        "    train_t = torch.ones_like(train_y) * task_idx\n",
        "\n",
        "    prop_guide, ELBO = train_model(train_x, \n",
        "                                   train_y, \n",
        "                                   train_t, \n",
        "                                   batch_size,\n",
        "                                   n_epochs=500,\n",
        "                                   pyro_model=split_MNIST_model,\n",
        "                                   define_net=define_resnet, \n",
        "                                   last_guide=prop_guide if task_idx != 0 else None,\n",
        "                                   random_init_guide=True)\n",
        "    plt.plot(ELBO)\n",
        "    plt.yscale(\"log\")\n",
        "    plt.show()\n",
        "\n",
        "\n",
        "    Acc = []\n",
        "    for t in range(len(Test_x)):\n",
        "        acc = prediction(test_x=Test_x[t], \n",
        "                         test_y=Test_y[t], \n",
        "                          test_t=Test_t[t], \n",
        "                          define_net=define_resnet, \n",
        "                          guide=prop_guide,\n",
        "                          n_particles=100)\n",
        "        Acc.append(acc)\n",
        "    print(\"The Accuracies of Propogation Model\")\n",
        "    print(Acc)\n",
        "\n",
        "    \n",
        "\n",
        "    pred_guide, ELBO = train_model(coreset_x, \n",
        "                                   coreset_y, \n",
        "                                   coreset_t, \n",
        "                                   batch_size,\n",
        "                                   n_epochs=500,\n",
        "                                   pyro_model=split_MNIST_model,\n",
        "                                   define_net=define_resnet, \n",
        "                                   last_guide=prop_guide,\n",
        "                                   random_init_guide=False)\n",
        "    plt.plot(ELBO)\n",
        "    plt.show()\n",
        "\n",
        "\n",
        "    Acc = []\n",
        "    for t in range(len(Test_x)):\n",
        "        acc = prediction(test_x=Test_x[t], \n",
        "                         test_y=Test_y[t], \n",
        "                         test_t=Test_t[t], \n",
        "                         define_net=define_resnet, \n",
        "                         guide=pred_guide,\n",
        "                         n_particles=100)\n",
        "        Acc.append(acc)\n",
        "    print(\"The Accuracies of Predict Model\")\n",
        "    print(Acc)\n",
        "\n"
      ]
    },
    {
      "cell_type": "code",
      "execution_count": null,
      "metadata": {
        "id": "4MQ0TjMPZJ24"
      },
      "outputs": [],
      "source": []
    },
    {
      "cell_type": "code",
      "execution_count": null,
      "metadata": {
        "id": "1-MkMA_kOBFZ"
      },
      "outputs": [],
      "source": [
        "from google.colab import runtime\n",
        "runtime.unassign()"
      ]
    }
  ],
  "metadata": {
    "accelerator": "GPU",
    "colab": {
      "collapsed_sections": [
        "pMSUQQ_Trd8o",
        "0fK_IVryszje",
        "Nmv80PJ3rl7y"
      ],
      "provenance": []
    },
    "gpuClass": "standard",
    "kernelspec": {
      "display_name": "Python 3",
      "name": "python3"
    },
    "language_info": {
      "name": "python"
    }
  },
  "nbformat": 4,
  "nbformat_minor": 0
}