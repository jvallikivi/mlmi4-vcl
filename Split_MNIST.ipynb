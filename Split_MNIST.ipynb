{
 "cells": [
  {
   "cell_type": "code",
   "execution_count": 1,
   "metadata": {},
   "outputs": [],
   "source": [
    "import torch\n",
    "from torch import nn\n",
    "import numpy as np\n",
    "from tqdm import tqdm\n",
    "import matplotlib.pyplot as plt\n",
    "from torchvision import datasets\n",
    "from torchvision import transforms\n",
    "from alg.vcl_net import MultiHeadVCLSplitMNIST, Initialization\n",
    "from alg.kcenter import KCenter"
   ]
  },
  {
   "cell_type": "code",
   "execution_count": 2,
   "metadata": {},
   "outputs": [],
   "source": [
    "ds_test = datasets.MNIST(\"./data\", train=False, transform=transforms.ToTensor(), download=True)\n",
    "ds_train = datasets.MNIST(\"./data\", train=True, transform=transforms.ToTensor(), download=True)\n",
    "def get_sMNIST(task_idx, device):\n",
    "    np.random.seed(task_idx)\n",
    "    labels = np.array_split(range(0, 10), 5)[task_idx]\n",
    "    ds_train_filtered = list(filter(lambda item: item[1] in labels, ds_train))\n",
    "    ds_test_filtered = list(filter(lambda item: item[1] in labels, ds_test))\n",
    "    train_x = nn.Flatten()(torch.cat([d[0] for d in ds_train_filtered]))\n",
    "    train_y = torch.tensor([d[1] - task_idx * 2 for d in ds_train_filtered])\n",
    "    \n",
    "    test_x = nn.Flatten()(torch.cat([d[0] for d in ds_test_filtered]))\n",
    "    test_y = torch.tensor([d[1] - task_idx * 2 for d in ds_test_filtered])\n",
    "\n",
    "    return train_x.to(device), train_y.to(device), test_x.to(device), test_y.to(device)"
   ]
  },
  {
   "cell_type": "code",
   "execution_count": 3,
   "metadata": {},
   "outputs": [
    {
     "name": "stderr",
     "output_type": "stream",
     "text": [
      "Running experiment: 100%|██████████| 10/10 [05:40<00:00, 34.04s/it]\n"
     ]
    }
   ],
   "source": [
    "def run(verbose=True):\n",
    "    device = \"cuda:0\" if torch.cuda.is_available() else \"cpu\"\n",
    "\n",
    "    test_x_all = []\n",
    "    test_y_all = []\n",
    "    test_task_i_all = []\n",
    "\n",
    "    coreset_x = None\n",
    "    coreset_y = None\n",
    "    coreset_size = 40\n",
    "\n",
    "    batch_size = 1000000 #\"batch size equal to the size of the training set\"\n",
    "\n",
    "    random_coreset = True\n",
    "    accuracies = []\n",
    "    n_epochs = 120\n",
    "\n",
    "    previous_model, coreset_task_mask = None, None\n",
    "    for task_i in range(5):\n",
    "        train_x, train_y, test_x, test_y = get_sMNIST(task_i, device)\n",
    "        test_x_all.append(test_x)\n",
    "        test_y_all.append(test_y)\n",
    "        test_task_i_all.append(torch.ones((test_x.shape[0]), dtype=int) * task_i)\n",
    "\n",
    "        # define current model\n",
    "        if task_i == 0:\n",
    "            current_model = MultiHeadVCLSplitMNIST(num_heads=1, initialization=Initialization.RANDOM).to(device)\n",
    "            current_model.set_prior(MultiHeadVCLSplitMNIST(num_heads=1, initialization=Initialization.DEFAULT).to(device))\n",
    "        else:\n",
    "            current_model = MultiHeadVCLSplitMNIST.new_from_prior(previous_model)\n",
    "            current_model.add_head(initialization=Initialization.RANDOM)\n",
    "            # Set last head the same as the first head (this was in the initial implementation in tf) TODO investigate\n",
    "            # current_model.heads[-1].set_params(*previous_model.heads[0].get_params())\n",
    "\n",
    "        assert len(current_model.heads) == task_i + 1\n",
    "        current_opt = torch.optim.Adam(current_model.parameters(), lr=0.001)\n",
    "\n",
    "        if random_coreset:\n",
    "            coreset_idx = np.random.choice(train_x.shape[0], coreset_size, False)\n",
    "        else:\n",
    "            coreset_idx = np.array(KCenter(coreset_size).fit_transform(train_x.cpu().detach().numpy()))\n",
    "        train_idx = np.delete(np.arange(train_x.shape[0]), coreset_idx)\n",
    "        new_coreset_x = train_x[coreset_idx]\n",
    "        new_coreset_y = train_y[coreset_idx]\n",
    "        new_coreset_task_mask = torch.ones((new_coreset_x.shape[0]), dtype=int) * task_i\n",
    "        train_x = train_x[train_idx]\n",
    "        train_y = train_y[train_idx]\n",
    "\n",
    "        if coreset_x == None:\n",
    "            coreset_x = new_coreset_x\n",
    "            coreset_y = new_coreset_y\n",
    "            coreset_task_mask = new_coreset_task_mask\n",
    "        else:\n",
    "            coreset_x = torch.cat([new_coreset_x, coreset_x])\n",
    "            coreset_y = torch.cat([new_coreset_y, coreset_y])\n",
    "            coreset_task_mask = torch.cat([new_coreset_task_mask, coreset_task_mask])\n",
    "            # \"For all the algorithms with coresets, we choose 40 examples from each task to include into the coresets\"\n",
    "\n",
    "        ELBO = []\n",
    "        for epoch in (tqdm if verbose else iter)(range(n_epochs)):\n",
    "            ELBO_batch = []\n",
    "            for batch in range(int(np.ceil(train_x.shape[0] / batch_size))):\n",
    "                batch_idx0 = batch * batch_size\n",
    "                batch_idx1 = batch * batch_size + batch_size\n",
    "                current_opt.zero_grad()\n",
    "                elbo = current_model.calculate_ELBO(x=train_x[batch_idx0: batch_idx1], \n",
    "                                                    y=train_y[batch_idx0: batch_idx1], \n",
    "                                                    n_particles=1,\n",
    "                                                    task_i_mask=task_i,\n",
    "                                                    dataset_size=train_x.shape[0])\n",
    "                elbo.backward()\n",
    "                nn.utils.clip_grad_value_(current_model.parameters(), 5)\n",
    "                current_opt.step()\n",
    "                ELBO_batch.append(elbo.item())\n",
    "            ELBO.append(np.mean(ELBO_batch))\n",
    "        if verbose:\n",
    "            plt.plot(ELBO)\n",
    "            plt.yscale(\"log\")\n",
    "            plt.show()\n",
    "\n",
    "        test_x_tensor = torch.cat(test_x_all)\n",
    "        test_y_tensor = torch.cat(test_y_all)\n",
    "        test_task_i_mask_tensor = torch.cat(test_task_i_all)\n",
    "        assert set([k.item() for k in test_task_i_mask_tensor.unique()]) == set([i for i in range(task_i + 1)]), f\"{set([k.item() for k in test_task_i_mask_tensor.unique()])} != {set([i for i in range(task_i + 1)])} Invalid, {test_task_i_mask_tensor.unique()}\"\n",
    "        pred_y = []\n",
    "        with torch.no_grad():\n",
    "            for batch in range(int(np.ceil(test_x_tensor.shape[0] / batch_size))):\n",
    "                batch_idx0 = batch * batch_size\n",
    "                batch_idx1 = batch * batch_size + batch_size\n",
    "                pred_logit_samples = nn.Softmax(-1)(torch.stack(current_model.predict(test_x_tensor[batch_idx0:batch_idx1], test_task_i_mask_tensor[batch_idx0:batch_idx1], 100), 0)).mean(0)\n",
    "                pred_y.append(pred_logit_samples.argmax(-1))\n",
    "            pred_y = torch.cat(pred_y)\n",
    "            acc = (pred_y == test_y_tensor).cpu().numpy().mean()\n",
    "        if verbose:\n",
    "            print(\"Accuracy by the propagation model is %.4f\"%acc)\n",
    "\n",
    "\n",
    "        # calculate prediction model\n",
    "        pred_model = MultiHeadVCLSplitMNIST.new_from_prior(current_model)\n",
    "        pred_opt = torch.optim.Adam(pred_model.parameters(), lr=0.001)\n",
    "\n",
    "        ELBO = []\n",
    "        for epoch in (tqdm if verbose else iter)(range(n_epochs)):\n",
    "            ELBO_batch = []\n",
    "            for batch in range(int(np.ceil(coreset_x.shape[0] / batch_size))):\n",
    "                batch_idx0 = batch * batch_size\n",
    "                batch_idx1 = batch * batch_size + batch_size\n",
    "                pred_opt.zero_grad()\n",
    "                elbo = pred_model.calculate_ELBO(x=coreset_x[batch_idx0: batch_idx1], \n",
    "                                                y=coreset_y[batch_idx0: batch_idx1], \n",
    "                                                task_i_mask=coreset_task_mask[batch_idx0: batch_idx1],\n",
    "                                                n_particles=1,\n",
    "                                                dataset_size=coreset_x.shape[0])\n",
    "                elbo.backward()\n",
    "                nn.utils.clip_grad_value_(pred_model.parameters(), 5)\n",
    "                pred_opt.step()\n",
    "                ELBO_batch.append(elbo.item())\n",
    "            ELBO.append(np.mean(ELBO_batch))\n",
    "        if verbose:\n",
    "            plt.plot(ELBO)\n",
    "            plt.show()\n",
    "\n",
    "        test_x_tensor = torch.cat(test_x_all)\n",
    "        test_y_tensor = torch.cat(test_y_all)\n",
    "        test_task_i_mask_tensor = torch.cat(test_task_i_all)\n",
    "        pred_y = []\n",
    "        with torch.no_grad():\n",
    "            for batch in range(int(np.ceil(test_x_tensor.shape[0] / batch_size))):\n",
    "                batch_idx0 = batch * batch_size\n",
    "                batch_idx1 = batch * batch_size + batch_size\n",
    "                pred_logit_samples = nn.Softmax(-1)(torch.stack(pred_model.predict(test_x_tensor[batch_idx0:batch_idx1], test_task_i_mask_tensor[batch_idx0:batch_idx1], 100), 0)).mean(0)\n",
    "                pred_y.append(pred_logit_samples.argmax(-1))\n",
    "            pred_y = torch.cat(pred_y)\n",
    "            acc = (pred_y == test_y_tensor).cpu().numpy().mean()\n",
    "        accuracies.append(acc)\n",
    "        if verbose:\n",
    "            print(\"Task {:d}, Accuracy: {:.4f}\".format(task_i, acc))\n",
    "        previous_model = current_model\n",
    "    return np.array(accuracies)\n",
    "\n",
    "accs = [run(False) for _ in tqdm(range(10), desc='Running experiment')]"
   ]
  },
  {
   "cell_type": "code",
   "execution_count": 4,
   "metadata": {},
   "outputs": [
    {
     "name": "stdout",
     "output_type": "stream",
     "text": [
      "Accuracies: [0.99952719 0.99112341 0.99219035 0.9925159  0.98807   ] Average: 0.9926853693255082\n"
     ]
    },
    {
     "data": {
      "image/png": "[encoded data removed]",
      "text/plain": [
       "<Figure size 640x480 with 1 Axes>"
      ]
     },
     "metadata": {},
     "output_type": "display_data"
    }
   ],
   "source": [
    "accuracies = np.array(accs)\n",
    "print(\"Accuracies:\", accuracies.mean(axis=0), \"Average:\", np.mean(accuracies))\n",
    "for values in accs:\n",
    "    plt.plot(np.arange(1, 6), values)\n",
    "    plt.scatter(np.arange(1, 6), values)\n",
    "    plt.xticks(np.arange(1, 6))\n",
    "    plt.ylim(0.8, 1)\n",
    "    plt.xlabel(\"# Tasks\")\n",
    "    plt.ylabel(\"Accuracy\");"
   ]
  },
  {
   "cell_type": "code",
   "execution_count": null,
   "metadata": {},
   "outputs": [],
   "source": []
  }
 ],
 "metadata": {
  "kernelspec": {
   "display_name": "mlmi4",
   "language": "python",
   "name": "python3"
  },
  "language_info": {
   "codemirror_mode": {
    "name": "ipython",
    "version": 3
   },
   "file_extension": ".py",
   "mimetype": "text/x-python",
   "name": "python",
   "nbconvert_exporter": "python",
   "pygments_lexer": "ipython3",
   "version": "3.9.16"
  },
  "orig_nbformat": 4,
  "vscode": {
   "interpreter": {
    "hash": "8989f891c30e0a24d4dfc555fd9de385bfc71786fcc0499d22146b0688236dec"
   }
  }
 },
 "nbformat": 4,
 "nbformat_minor": 2
}
