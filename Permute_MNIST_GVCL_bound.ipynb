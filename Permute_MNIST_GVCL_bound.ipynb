{
  "cells": [
    {
      "cell_type": "markdown",
      "metadata": {
        "id": "0vJO8cjK1AG7"
      },
      "source": [
        "Last Update: 2/23/2023\n",
        "\n",
        "This notebook contains codes and results of **GVCL** (Generalized VCL Bound) on permute MNIST dataset.\n",
        "\n",
        "Tricks mentioned in Improving and Understanding Variational Continual Learning are also adopted\n",
        "- Longer training \n",
        "- Local reparameterization trick (also in the original VCL)\n",
        "- random initialized mean\n",
        "\n",
        "\n"
      ],
      "id": "0vJO8cjK1AG7"
    },
    {
      "cell_type": "code",
      "execution_count": null,
      "metadata": {
        "id": "39e4e68f"
      },
      "outputs": [],
      "source": [
        "import torch\n",
        "from torch import nn\n",
        "import numpy as np\n",
        "from tqdm import tqdm\n",
        "import matplotlib.pyplot as plt\n",
        "from torch.distributions import kl_divergence, Normal\n",
        "from collections import OrderedDict\n",
        "from torchvision import datasets\n",
        "from torchvision import transforms"
      ],
      "id": "39e4e68f"
    },
    {
      "cell_type": "code",
      "execution_count": null,
      "metadata": {
        "id": "3d4adf7f"
      },
      "outputs": [],
      "source": [
        "class BayesLinear(nn.Module):\n",
        "    def __init__(self, in_features, out_features):\n",
        "        super().__init__()\n",
        "        self.weight_loc = nn.Parameter(torch.zeros(in_features, out_features))\n",
        "        self.log_weight_scale = nn.Parameter(torch.zeros(in_features, out_features))\n",
        "        \n",
        "        self.bias_loc = nn.Parameter(torch.zeros(out_features))\n",
        "        self.log_bias_scale = nn.Parameter(torch.zeros(out_features))\n",
        "        \n",
        "    def get_params(self):\n",
        "        \"\"\"\n",
        "        return two tensors, obtaining by concatenating locs and scales together\n",
        "        these parameters can be further used to calculate e.g, KL divergence (vectorizedly)\n",
        "        \"\"\"\n",
        "        return (\n",
        "                torch.cat([self.weight_loc.flatten(), self.bias_loc.flatten()]), \n",
        "                torch.cat([self.log_weight_scale.flatten(), self.log_bias_scale.flatten()])\n",
        "               )\n",
        "    \n",
        "    def forward(self, x, x_is_sample, activition_fn, n_particles):\n",
        "        \"\"\"\n",
        "        forward with local reparameterization tricks\n",
        "        \"\"\"\n",
        "        ys = []\n",
        "        if x_is_sample:\n",
        "            assert n_particles == len(x)\n",
        "            for _x in x:\n",
        "                gamma = _x @ self.weight_loc + self.bias_loc\n",
        "                delta2 = (_x ** 2) @ (torch.exp(self.log_weight_scale) ** 2) + torch.exp(self.log_bias_scale) ** 2\n",
        "                y = gamma + torch.randn_like(gamma) * torch.sqrt(delta2 + 1e-6) \n",
        "                ys.append(activition_fn(y))\n",
        "        else:\n",
        "            for _ in range(n_particles):\n",
        "                gamma = x @ self.weight_loc + self.bias_loc\n",
        "                delta2 = (x ** 2) @ (torch.exp(self.log_weight_scale) ** 2) + torch.exp(self.log_bias_scale) ** 2\n",
        "                y = gamma + torch.randn_like(gamma) * torch.sqrt(delta2 + 1e-6) \n",
        "                ys.append(activition_fn(y))\n",
        "        return ys\n",
        "    \n",
        "    def forward_MLE(self, x, activition_fn):\n",
        "        y = x @ self.weight_loc + self.bias_loc\n",
        "        return activition_fn(y)\n"
      ],
      "id": "3d4adf7f"
    },
    {
      "cell_type": "code",
      "execution_count": null,
      "metadata": {
        "id": "7049e8a0"
      },
      "outputs": [],
      "source": [
        "# Implement Gonzalez Algorithm for k-Center Clustering for Coreset selection\n",
        "\n",
        "class KCenter:\n",
        "    def __init__(self, K):\n",
        "        self.K = K\n",
        "    def fit_transform(self, x):\n",
        "        # fit and return centers\n",
        "        idx1 = np.random.choice(x.shape[0], 1)\n",
        "        center = x[idx1] # (1, d)\n",
        "        idx = [idx1.item()]\n",
        "        min_distances_to_centers = np.full([1, x.shape[0]], np.inf)\n",
        "        for k in tqdm(range(1, self.K)):\n",
        "            distances = ((x[None, :, :] - center[:, None, :]) ** 2).sum(-1) # 1, N\n",
        "            min_distances_to_centers = np.vstack([min_distances_to_centers, distances]).min(0)\n",
        "            new_center_idx = np.argmax(min_distances_to_centers).item()\n",
        "            idx.append(new_center_idx)\n",
        "            center = x[[new_center_idx]]\n",
        "        assert len(idx) == self.K\n",
        "        return idx"
      ],
      "id": "7049e8a0"
    },
    {
      "cell_type": "code",
      "execution_count": null,
      "metadata": {
        "id": "4413bd53"
      },
      "outputs": [],
      "source": [
        "class VCL_permute_MNIST(nn.Module):\n",
        "    def __init__(self, previous_model, random_initialize):\n",
        "        super().__init__()\n",
        "        \n",
        "        # \"fully connected single-head networks with two hidden layers, where each layer contains 100 hidden units with ReLU activation\"\n",
        "        self.linear1 = BayesLinear(28*28, 100)\n",
        "        self.linear2 = BayesLinear(100, 100)\n",
        "        self.head = BayesLinear(100, 10)\n",
        "        \n",
        "        # intialize distributions as prior distributions\n",
        "        # I believe there exist better ways to do this, but I am too lazy to think..(sorry)\n",
        "        \n",
        "        # define a layer dict\n",
        "        self.layer_dict = OrderedDict()\n",
        "        self.layer_dict[\"linear1\"] = self.linear1\n",
        "        self.layer_dict[\"linear2\"] = self.linear2\n",
        "        self.layer_dict[\"head\"] = self.head\n",
        "        \n",
        "        # just a sanity check \n",
        "        assert id(self.layer_dict[\"linear1\"]) == id(self.linear1)\n",
        "        \n",
        "        \n",
        "        with torch.no_grad():\n",
        "            if previous_model != None:\n",
        "                for key in self.layer_dict:\n",
        "                    self.layer_dict[key].weight_loc.data = previous_model.layer_dict[key].weight_loc.data.clone()\n",
        "                    self.layer_dict[key].bias_loc.data = previous_model.layer_dict[key].bias_loc.data.clone()\n",
        "                    self.layer_dict[key].log_weight_scale.data  = previous_model.layer_dict[key].log_weight_scale.data.clone()\n",
        "                    self.layer_dict[key].log_bias_scale.data  = previous_model.layer_dict[key].log_bias_scale.data.clone()\n",
        "            if random_initialize: \n",
        "                # the first model's initialization\n",
        "                # 0 mean and very small variances (do not need to break the symmetricity since the training is based on random samples)\n",
        "                for key in self.layer_dict:\n",
        "                    self.layer_dict[key].weight_loc.data = torch.randn_like(self.layer_dict[key].weight_loc.data) * 0.1\n",
        "                    self.layer_dict[key].bias_loc.data = torch.randn_like(self.layer_dict[key].bias_loc.data) * 0.1\n",
        "                    # initialize to very small value for the first model\n",
        "                    self.layer_dict[key].log_weight_scale.data  = torch.zeros_like(self.layer_dict[key].log_weight_scale.data) - 3\n",
        "                    self.layer_dict[key].log_bias_scale.data  = torch.zeros_like(self.layer_dict[key].log_bias_scale.data) - 3\n",
        "        \n",
        "        # also save parameters of the previous model, for the calculation of ELBO\n",
        "        if  previous_model != None:\n",
        "            previous_locs, previous_logscales = previous_model.get_params()\n",
        "            previous_locs, previous_logscales = previous_locs.detach().clone(), previous_logscales.detach().clone()\n",
        "            self.previous_model_locs = previous_locs\n",
        "            self.previous_model_log_scales = previous_logscales\n",
        "        else:\n",
        "            self.previous_model_locs = None\n",
        "            self.previous_model_log_scales = None\n",
        "        \n",
        "    def predict(self, x, n_particles):\n",
        "        hiddens =  self.linear1.forward(x, x_is_sample=False, activition_fn=nn.ReLU(), n_particles=n_particles)\n",
        "        hiddens =  self.linear2.forward(hiddens, x_is_sample=True, activition_fn=nn.ReLU(), n_particles=n_particles)\n",
        "        logits = self.head.forward(hiddens, x_is_sample=True, activition_fn=nn.Identity(), n_particles=n_particles)\n",
        "        return logits # a list of logits calculated from samples\n",
        "    \n",
        "    def predict_MLE(self, x):\n",
        "        hiddens =  self.linear1.forward_MLE(x, nn.ReLU())\n",
        "        hiddens =  self.linear2.forward_MLE(hiddens, nn.ReLU())\n",
        "        logits = self.head.forward_MLE(hiddens, nn.Identity())\n",
        "        return logits\n",
        "    \n",
        "    def get_params(self):  \n",
        "        locs = []\n",
        "        logscales = []\n",
        "        for key in self.layer_dict:\n",
        "            loc, scale = self.layer_dict[key].get_params()\n",
        "            locs.append(loc)\n",
        "            logscales.append(scale)\n",
        "        locs = torch.cat(locs)\n",
        "        logscales = torch.cat(logscales)\n",
        "        return locs, logscales\n",
        "    \n",
        "    def calculate_GVCL_ELBO(self, x, y, n_particles, dataset_size, lambd, beta):\n",
        "        \n",
        "        locs, logscales = self.get_params()\n",
        "\n",
        "        Sigma_inv_T_lambda = lambd * torch.clamp(torch.exp(self.previous_model_log_scales)**(-2) - 1, min=1e-3) + 1\n",
        "        gvclKL = ((locs - self.previous_model_locs) ** 2 * Sigma_inv_T_lambda).sum() + (torch.exp(self.previous_model_log_scales)**(-2) * torch.exp(logscales) ** 2).sum() + 2 * (self.previous_model_log_scales - logscales).sum() - locs.shape[0]\n",
        "        gvclKL = gvclKL / 2\n",
        "\n",
        "        # # calculate KL between \"prior\" and posterior\n",
        "        # KL = kl_divergence(Normal(loc=locs, scale=torch.exp(logscales)),\n",
        "        #                    Normal(loc=self.previous_model_locs, scale=torch.exp(self.previous_model_log_scales))\n",
        "        #                   )\n",
        "\n",
        "        nELBO = 0 \n",
        "        for _ in range(n_particles):\n",
        "            logit = self.predict(x, 1)[0]\n",
        "            neg_log_p = nn.CrossEntropyLoss(reduction='sum')(logit, y)\n",
        "            nELBO = neg_log_p + nELBO\n",
        "        nELBO = nELBO / n_particles / x.shape[0] + beta * gvclKL.sum() / dataset_size \n",
        "        # since the ELBO can be viewed as an MC estimator over dataset. Keep the magnitude same is of vital importance!!!\n",
        "                  \n",
        "        return nELBO  \n",
        "    def MLE_loss(self, x, y):\n",
        "        logit = self.predict_MLE(x)\n",
        "        loss = nn.CrossEntropyLoss(reduction='mean')(logit, y)\n",
        "        return loss\n"
      ],
      "id": "4413bd53"
    },
    {
      "cell_type": "code",
      "execution_count": null,
      "metadata": {
        "colab": {
          "base_uri": "https://localhost:8080/",
          "height": 443,
          "referenced_widgets": [
            "81b4fc585b9f4687a87b323c0fd71e64",
            "72ec61454c8b4db3b2d8ff7c0f934759",
            "80056e780b9442879f3963681e04d6d5",
            "a9ef8ddd43464b83a5365cd484534eec",
            "cd00df5aa84144009c2e727792cbdf78",
            "14bdf7c3d54c40a6a3778408d1870c36",
            "4ded6042724c403a86184ce4d5b194ef",
            "9c0e5c336abb4cca985db3586d42086f",
            "0620bc9566a04dd1b4fe9b859c05e5ab",
            "7675965be7904afd9414c5391a482105",
            "8bb4e3de06a2463681baaea0e8fb638d",
            "1e5c428ce5d1419f8ac6316fb4471a48",
            "f63a803e2b134fd882bd17f146a8627d",
            "1f61e66adff04db4a4731416aaff50da",
            "82723dc5dfc247328f8f653f8ab55ccc",
            "65441c3ea42d4750b19348509c4fdfb2",
            "358c87346f32481cb3178f5bc0c98e30",
            "6558b1cfaeda4c4f8377b056043ae7c9",
            "0efa3153cc4e4910a817946d9daddd10",
            "086f8ec643e64e529e0e000cf2eb1c20",
            "76ae5daae8134a24942a57378b175588",
            "9feae8abcf874c27a3765ab8847f5046",
            "31f7094ed4b640519efd159b8fd12cf2",
            "9c62b738688244bf8e89146dc09edb27",
            "ddf8f3504fe449c48bb78c4c6dde203c",
            "933fe55e5ee944519f13e952291c8bed",
            "f628388c5de9472795f389082a165ef5",
            "7a0abba312bf41648975dba115fbcdb9",
            "7bf9211117854010964cd582f9cccdd4",
            "59edb35fefb94e45bef41b926b62730b",
            "1f7befd6a6ba47ff832db746ee197482",
            "6999fb881352433fa946cb36db4eb15a",
            "20799ebbe1b64baaa5bcd205a3b078e4",
            "e0801bb080d94d7f86f33ec985251361",
            "521b95885a3e40d1aadfb711be868d04",
            "b7a750d95bd44676bcc2718adde12e25",
            "3f511daf6a734575a0d13154e321e520",
            "f70dbdcee4084843928e8bdcb911dc2d",
            "9ceb49db25f040eb9b289becd0112e26",
            "5d056f891bb14da590de1530614af474",
            "18870898ec6444c1833677c4775fe32b",
            "2a5b21315df94d9d9ce991115947c7d0",
            "383448ada84845e495c53587e8c42f92",
            "202c72092ea841e0b18ac5fcb1ffef7a"
          ]
        },
        "id": "a514cbef",
        "outputId": "5cce2ab4-1b9d-4bb6-b5c1-65623b2b6fbb"
      },
      "outputs": [
        {
          "output_type": "stream",
          "name": "stdout",
          "text": [
            "Downloading http://yann.lecun.com/exdb/mnist/train-images-idx3-ubyte.gz\n",
            "Downloading http://yann.lecun.com/exdb/mnist/train-images-idx3-ubyte.gz to ./MNIST/raw/train-images-idx3-ubyte.gz\n"
          ]
        },
        {
          "output_type": "display_data",
          "data": {
            "text/plain": [
              "  0%|          | 0/9912422 [00:00<?, ?it/s]"
            ],
            "application/vnd.jupyter.widget-view+json": {
              "version_major": 2,
              "version_minor": 0,
              "model_id": "81b4fc585b9f4687a87b323c0fd71e64"
            }
          },
          "metadata": {}
        },
        {
          "output_type": "stream",
          "name": "stdout",
          "text": [
            "Extracting ./MNIST/raw/train-images-idx3-ubyte.gz to ./MNIST/raw\n",
            "\n",
            "Downloading http://yann.lecun.com/exdb/mnist/train-labels-idx1-ubyte.gz\n",
            "Downloading http://yann.lecun.com/exdb/mnist/train-labels-idx1-ubyte.gz to ./MNIST/raw/train-labels-idx1-ubyte.gz\n"
          ]
        },
        {
          "output_type": "display_data",
          "data": {
            "text/plain": [
              "  0%|          | 0/28881 [00:00<?, ?it/s]"
            ],
            "application/vnd.jupyter.widget-view+json": {
              "version_major": 2,
              "version_minor": 0,
              "model_id": "1e5c428ce5d1419f8ac6316fb4471a48"
            }
          },
          "metadata": {}
        },
        {
          "output_type": "stream",
          "name": "stdout",
          "text": [
            "Extracting ./MNIST/raw/train-labels-idx1-ubyte.gz to ./MNIST/raw\n",
            "\n",
            "Downloading http://yann.lecun.com/exdb/mnist/t10k-images-idx3-ubyte.gz\n",
            "Downloading http://yann.lecun.com/exdb/mnist/t10k-images-idx3-ubyte.gz to ./MNIST/raw/t10k-images-idx3-ubyte.gz\n"
          ]
        },
        {
          "output_type": "display_data",
          "data": {
            "text/plain": [
              "  0%|          | 0/1648877 [00:00<?, ?it/s]"
            ],
            "application/vnd.jupyter.widget-view+json": {
              "version_major": 2,
              "version_minor": 0,
              "model_id": "31f7094ed4b640519efd159b8fd12cf2"
            }
          },
          "metadata": {}
        },
        {
          "output_type": "stream",
          "name": "stdout",
          "text": [
            "Extracting ./MNIST/raw/t10k-images-idx3-ubyte.gz to ./MNIST/raw\n",
            "\n",
            "Downloading http://yann.lecun.com/exdb/mnist/t10k-labels-idx1-ubyte.gz\n",
            "Downloading http://yann.lecun.com/exdb/mnist/t10k-labels-idx1-ubyte.gz to ./MNIST/raw/t10k-labels-idx1-ubyte.gz\n"
          ]
        },
        {
          "output_type": "display_data",
          "data": {
            "text/plain": [
              "  0%|          | 0/4542 [00:00<?, ?it/s]"
            ],
            "application/vnd.jupyter.widget-view+json": {
              "version_major": 2,
              "version_minor": 0,
              "model_id": "e0801bb080d94d7f86f33ec985251361"
            }
          },
          "metadata": {}
        },
        {
          "output_type": "stream",
          "name": "stdout",
          "text": [
            "Extracting ./MNIST/raw/t10k-labels-idx1-ubyte.gz to ./MNIST/raw\n",
            "\n"
          ]
        }
      ],
      "source": [
        "ds_test = datasets.MNIST(\"./\", train=False, transform=transforms.ToTensor(), download=True)\n",
        "ds_train = datasets.MNIST(\"./\", train=True, transform=transforms.ToTensor(), download=True)\n",
        "def get_pMNIST(task_idx, device):\n",
        "    np.random.seed(task_idx)\n",
        "    permute_idx = np.random.choice(28*28, 28*28, False)\n",
        "    train_x = nn.Flatten()(torch.cat([d[0] for d in ds_train]))[:, permute_idx]\n",
        "    train_y = torch.tensor([d[1] for d in ds_train])\n",
        "    \n",
        "    test_x = nn.Flatten()(torch.cat([d[0] for d in ds_test]))[:, permute_idx]\n",
        "    test_y = torch.tensor([d[1] for d in ds_test])\n",
        "    \n",
        "    return train_x.to(device), train_y.to(device), test_x.to(device), test_y.to(device)"
      ],
      "id": "a514cbef"
    },
    {
      "cell_type": "code",
      "execution_count": null,
      "metadata": {
        "id": "b7de0764"
      },
      "outputs": [],
      "source": [
        "device = \"cuda\""
      ],
      "id": "b7de0764"
    },
    {
      "cell_type": "code",
      "execution_count": null,
      "metadata": {
        "id": "15e9ae52"
      },
      "outputs": [],
      "source": [],
      "id": "15e9ae52"
    },
    {
      "cell_type": "code",
      "execution_count": null,
      "metadata": {
        "colab": {
          "base_uri": "https://localhost:8080/",
          "height": 1000
        },
        "id": "7da51f12",
        "outputId": "486ceb06-c6ee-400e-8952-7ba2ae1121e9"
      },
      "outputs": [
        {
          "output_type": "stream",
          "name": "stderr",
          "text": [
            "100%|██████████| 200/200 [04:04<00:00,  1.22s/it]\n"
          ]
        },
        {
          "output_type": "display_data",
          "data": {
            "text/plain": [
              "<Figure size 432x288 with 1 Axes>"
            ],
            "image/png": "[encoded data removed]"
          },
          "metadata": {
            "needs_background": "light"
          }
        },
        {
          "output_type": "stream",
          "name": "stdout",
          "text": [
            "Accuracy by the propagration model is 0.9810\n"
          ]
        },
        {
          "output_type": "stream",
          "name": "stderr",
          "text": [
            "100%|██████████| 200/200 [00:01<00:00, 198.91it/s]\n"
          ]
        },
        {
          "output_type": "display_data",
          "data": {
            "text/plain": [
              "<Figure size 432x288 with 1 Axes>"
            ],
            "image/png": "[encoded data removed]"
          },
          "metadata": {
            "needs_background": "light"
          }
        },
        {
          "output_type": "stream",
          "name": "stdout",
          "text": [
            "Task 0, Accuracy: 0.9795\n"
          ]
        },
        {
          "output_type": "stream",
          "name": "stderr",
          "text": [
            "100%|██████████| 200/200 [04:05<00:00,  1.23s/it]\n"
          ]
        },
        {
          "output_type": "display_data",
          "data": {
            "text/plain": [
              "<Figure size 432x288 with 1 Axes>"
            ],
            "image/png": "[encoded data removed]"
          },
          "metadata": {
            "needs_background": "light"
          }
        },
        {
          "output_type": "stream",
          "name": "stdout",
          "text": [
            "Accuracy by the propagration model is 0.9788\n"
          ]
        },
        {
          "output_type": "stream",
          "name": "stderr",
          "text": [
            "100%|██████████| 200/200 [00:02<00:00, 99.52it/s]\n"
          ]
        },
        {
          "output_type": "display_data",
          "data": {
            "text/plain": [
              "<Figure size 432x288 with 1 Axes>"
            ],
            "image/png": "[encoded data removed]"
          },
          "metadata": {
            "needs_background": "light"
          }
        },
        {
          "output_type": "stream",
          "name": "stdout",
          "text": [
            "Task 1, Accuracy: 0.9787\n"
          ]
        },
        {
          "output_type": "stream",
          "name": "stderr",
          "text": [
            "100%|██████████| 200/200 [04:03<00:00,  1.22s/it]\n"
          ]
        },
        {
          "output_type": "display_data",
          "data": {
            "text/plain": [
              "<Figure size 432x288 with 1 Axes>"
            ],
            "image/png": "[encoded data removed]"
          },
          "metadata": {
            "needs_background": "light"
          }
        },
        {
          "output_type": "stream",
          "name": "stdout",
          "text": [
            "Accuracy by the propagration model is 0.9787\n"
          ]
        },
        {
          "output_type": "stream",
          "name": "stderr",
          "text": [
            "100%|██████████| 200/200 [00:03<00:00, 58.79it/s]\n"
          ]
        },
        {
          "output_type": "display_data",
          "data": {
            "text/plain": [
              "<Figure size 432x288 with 1 Axes>"
            ],
            "image/png": "[encoded data removed]"
          },
          "metadata": {
            "needs_background": "light"
          }
        },
        {
          "output_type": "stream",
          "name": "stdout",
          "text": [
            "Task 2, Accuracy: 0.9781\n"
          ]
        },
        {
          "output_type": "stream",
          "name": "stderr",
          "text": [
            "100%|██████████| 200/200 [04:03<00:00,  1.22s/it]\n"
          ]
        },
        {
          "output_type": "display_data",
          "data": {
            "text/plain": [
              "<Figure size 432x288 with 1 Axes>"
            ],
            "image/png": "[encoded data removed]"
          },
          "metadata": {
            "needs_background": "light"
          }
        },
        {
          "output_type": "stream",
          "name": "stdout",
          "text": [
            "Accuracy by the propagration model is 0.9778\n"
          ]
        },
        {
          "output_type": "stream",
          "name": "stderr",
          "text": [
            "100%|██████████| 200/200 [00:04<00:00, 44.37it/s]\n"
          ]
        },
        {
          "output_type": "display_data",
          "data": {
            "text/plain": [
              "<Figure size 432x288 with 1 Axes>"
            ],
            "image/png": "[encoded data removed]"
          },
          "metadata": {
            "needs_background": "light"
          }
        },
        {
          "output_type": "stream",
          "name": "stdout",
          "text": [
            "Task 3, Accuracy: 0.9773\n"
          ]
        },
        {
          "output_type": "stream",
          "name": "stderr",
          "text": [
            "100%|██████████| 200/200 [04:02<00:00,  1.21s/it]\n"
          ]
        },
        {
          "output_type": "display_data",
          "data": {
            "text/plain": [
              "<Figure size 432x288 with 1 Axes>"
            ],
            "image/png": "[encoded data removed]"
          },
          "metadata": {
            "needs_background": "light"
          }
        },
        {
          "output_type": "stream",
          "name": "stdout",
          "text": [
            "Accuracy by the propagration model is 0.9757\n"
          ]
        },
        {
          "output_type": "stream",
          "name": "stderr",
          "text": [
            "100%|██████████| 200/200 [00:04<00:00, 43.58it/s]\n"
          ]
        },
        {
          "output_type": "display_data",
          "data": {
            "text/plain": [
              "<Figure size 432x288 with 1 Axes>"
            ],
            "image/png": "[encoded data removed]"
          },
          "metadata": {
            "needs_background": "light"
          }
        },
        {
          "output_type": "stream",
          "name": "stdout",
          "text": [
            "Task 4, Accuracy: 0.9759\n"
          ]
        },
        {
          "output_type": "stream",
          "name": "stderr",
          "text": [
            "100%|██████████| 200/200 [04:02<00:00,  1.21s/it]\n"
          ]
        },
        {
          "output_type": "display_data",
          "data": {
            "text/plain": [
              "<Figure size 432x288 with 1 Axes>"
            ],
            "image/png": "[encoded data removed]"
          },
          "metadata": {
            "needs_background": "light"
          }
        },
        {
          "output_type": "stream",
          "name": "stdout",
          "text": [
            "Accuracy by the propagration model is 0.9735\n"
          ]
        },
        {
          "output_type": "stream",
          "name": "stderr",
          "text": [
            "100%|██████████| 200/200 [00:05<00:00, 38.07it/s]\n"
          ]
        },
        {
          "output_type": "display_data",
          "data": {
            "text/plain": [
              "<Figure size 432x288 with 1 Axes>"
            ],
            "image/png": "[encoded data removed]"
          },
          "metadata": {
            "needs_background": "light"
          }
        },
        {
          "output_type": "stream",
          "name": "stdout",
          "text": [
            "Task 5, Accuracy: 0.9734\n"
          ]
        },
        {
          "output_type": "stream",
          "name": "stderr",
          "text": [
            "100%|██████████| 200/200 [04:04<00:00,  1.22s/it]\n"
          ]
        },
        {
          "output_type": "display_data",
          "data": {
            "text/plain": [
              "<Figure size 432x288 with 1 Axes>"
            ],
            "image/png": "[encoded data removed]"
          },
          "metadata": {
            "needs_background": "light"
          }
        },
        {
          "output_type": "stream",
          "name": "stdout",
          "text": [
            "Accuracy by the propagration model is 0.9706\n"
          ]
        },
        {
          "output_type": "stream",
          "name": "stderr",
          "text": [
            "100%|██████████| 200/200 [00:06<00:00, 31.90it/s]\n"
          ]
        },
        {
          "output_type": "display_data",
          "data": {
            "text/plain": [
              "<Figure size 432x288 with 1 Axes>"
            ],
            "image/png": "[encoded data removed]"
          },
          "metadata": {
            "needs_background": "light"
          }
        },
        {
          "output_type": "stream",
          "name": "stdout",
          "text": [
            "Task 6, Accuracy: 0.9704\n"
          ]
        },
        {
          "output_type": "stream",
          "name": "stderr",
          "text": [
            "100%|██████████| 200/200 [04:05<00:00,  1.23s/it]\n"
          ]
        },
        {
          "output_type": "display_data",
          "data": {
            "text/plain": [
              "<Figure size 432x288 with 1 Axes>"
            ],
            "image/png": "[encoded data removed]"
          },
          "metadata": {
            "needs_background": "light"
          }
        },
        {
          "output_type": "stream",
          "name": "stdout",
          "text": [
            "Accuracy by the propagration model is 0.9665\n"
          ]
        },
        {
          "output_type": "stream",
          "name": "stderr",
          "text": [
            "100%|██████████| 200/200 [00:07<00:00, 26.10it/s]\n"
          ]
        },
        {
          "output_type": "display_data",
          "data": {
            "text/plain": [
              "<Figure size 432x288 with 1 Axes>"
            ],
            "image/png": "[encoded data removed]"
          },
          "metadata": {
            "needs_background": "light"
          }
        },
        {
          "output_type": "stream",
          "name": "stdout",
          "text": [
            "Task 7, Accuracy: 0.9671\n"
          ]
        },
        {
          "output_type": "stream",
          "name": "stderr",
          "text": [
            "100%|██████████| 200/200 [04:04<00:00,  1.22s/it]\n"
          ]
        },
        {
          "output_type": "display_data",
          "data": {
            "text/plain": [
              "<Figure size 432x288 with 1 Axes>"
            ],
            "image/png": "[encoded data removed]"
          },
          "metadata": {
            "needs_background": "light"
          }
        },
        {
          "output_type": "stream",
          "name": "stdout",
          "text": [
            "Accuracy by the propagration model is 0.9629\n"
          ]
        },
        {
          "output_type": "stream",
          "name": "stderr",
          "text": [
            "100%|██████████| 200/200 [00:08<00:00, 24.35it/s]\n"
          ]
        },
        {
          "output_type": "display_data",
          "data": {
            "text/plain": [
              "<Figure size 432x288 with 1 Axes>"
            ],
            "image/png": "[encoded data removed]"
          },
          "metadata": {
            "needs_background": "light"
          }
        },
        {
          "output_type": "stream",
          "name": "stdout",
          "text": [
            "Task 8, Accuracy: 0.9635\n"
          ]
        },
        {
          "output_type": "stream",
          "name": "stderr",
          "text": [
            "100%|██████████| 200/200 [04:04<00:00,  1.22s/it]\n"
          ]
        },
        {
          "output_type": "display_data",
          "data": {
            "text/plain": [
              "<Figure size 432x288 with 1 Axes>"
            ],
            "image/png": "[encoded data removed]"
          },
          "metadata": {
            "needs_background": "light"
          }
        },
        {
          "output_type": "stream",
          "name": "stdout",
          "text": [
            "Accuracy by the propagration model is 0.9568\n"
          ]
        },
        {
          "output_type": "stream",
          "name": "stderr",
          "text": [
            "100%|██████████| 200/200 [00:08<00:00, 22.35it/s]\n"
          ]
        },
        {
          "output_type": "display_data",
          "data": {
            "text/plain": [
              "<Figure size 432x288 with 1 Axes>"
            ],
            "image/png": "[encoded data removed]"
          },
          "metadata": {
            "needs_background": "light"
          }
        },
        {
          "output_type": "stream",
          "name": "stdout",
          "text": [
            "Task 9, Accuracy: 0.9590\n"
          ]
        }
      ],
      "source": [
        "Test_x = []\n",
        "Test_y = []\n",
        "\n",
        "previous_model = VCL_permute_MNIST(previous_model=None, random_initialize=False).to(device) # initialize a prior model\n",
        "\n",
        "coreset_x = None\n",
        "coreset_y = None\n",
        "coreset_size = 200\n",
        "batch_size = 256\n",
        "random_coreset = True\n",
        "Accuracies = []\n",
        "\n",
        "n_epochs = 200\n",
        "annealing_beta_prop = 0.5\n",
        "annealing_beta_pred = 0.05\n",
        "lambd = 10\n",
        "\n",
        "for task in range(10):\n",
        "    train_x, train_y, test_x, test_y = get_pMNIST(task, device)\n",
        "    Test_x.append(test_x)\n",
        "    Test_y.append(test_y)\n",
        "    \n",
        "    # define current model\n",
        "    current_model = VCL_permute_MNIST(previous_model=previous_model, random_initialize=True).to(device)\n",
        "    current_opt = torch.optim.Adam(current_model.parameters(), lr=0.001)\n",
        "\n",
        "    # get coreset\n",
        "    if random_coreset:\n",
        "        coreset_idx = np.random.choice(train_x.shape[0], coreset_size, False)\n",
        "    else:\n",
        "        coreset_idx = np.array(KCenter(coreset_size).fit_transform(train_x.cpu().detach().numpy())) \n",
        "    train_idx = np.delete(np.arange(train_x.shape[0]), coreset_idx)\n",
        "    new_coreset_x = train_x[coreset_idx]\n",
        "    new_coreset_y = train_y[coreset_idx]\n",
        "    train_x = train_x[train_idx]\n",
        "    train_y = train_y[train_idx]\n",
        "\n",
        "    if coreset_x == None:\n",
        "        coreset_x = new_coreset_x\n",
        "        coreset_y = new_coreset_y\n",
        "    else:\n",
        "        coreset_x = torch.cat([new_coreset_x, coreset_x])\n",
        "        coreset_y = torch.cat([new_coreset_y, coreset_y])\n",
        "        # \"For all the algorithms with coresets, we choose 200 examples from each task to include into the coresets\"\n",
        "\n",
        "    ELBO = []\n",
        "    for epoch in tqdm(range(n_epochs)):\n",
        "        ELBO_batch = []\n",
        "        for batch in range(int(np.ceil(train_x.shape[0] / batch_size))):\n",
        "            batch_idx0 = batch * batch_size\n",
        "            batch_idx1 = batch * batch_size + batch_size\n",
        "            \n",
        "            current_opt.zero_grad()\n",
        "            elbo = current_model.calculate_GVCL_ELBO(x=train_x[batch_idx0: batch_idx1], \n",
        "                                                     y=train_y[batch_idx0: batch_idx1], \n",
        "                                                     n_particles=1,\n",
        "                                                     dataset_size=train_x.shape[0],\n",
        "                                                     lambd=lambd, \n",
        "                                                     beta=annealing_beta_prop)\n",
        "            elbo.backward()\n",
        "            nn.utils.clip_grad_value_(current_model.parameters(), 5)\n",
        "            current_opt.step()\n",
        "            ELBO_batch.append(elbo.item())\n",
        "        ELBO.append(np.mean(ELBO_batch))\n",
        "    plt.plot(ELBO)\n",
        "    plt.yscale(\"log\")\n",
        "    plt.show()\n",
        "\n",
        "    test_x_tensor = torch.cat(Test_x)\n",
        "    test_y_tensor = torch.cat(Test_y)\n",
        "    pred_y = []\n",
        "    with torch.no_grad():\n",
        "        for batch in range(int(np.ceil(test_x_tensor.shape[0] / batch_size))):\n",
        "            batch_idx0 = batch * batch_size\n",
        "            batch_idx1 = batch * batch_size + batch_size\n",
        "            pred_logit_samples = nn.Softmax(-1)(torch.stack(current_model.predict(test_x_tensor[batch_idx0: batch_idx1], 100), 0)).mean(0)\n",
        "            pred_y.append(pred_logit_samples.argmax(-1))\n",
        "        pred_y = torch.cat(pred_y)\n",
        "        acc = (pred_y == test_y_tensor).cpu().numpy().mean()\n",
        "    print(\"Accuracy by the propagration model is %.4f\"%acc)\n",
        "        \n",
        "    # calculate prediction model\n",
        "    pred_model = VCL_permute_MNIST(previous_model=current_model, random_initialize=False).to(device)\n",
        "    pred_opt = torch.optim.Adam(pred_model.parameters(), lr=0.001)\n",
        "\n",
        "    ELBO = []\n",
        "    for epoch in tqdm(range(n_epochs)):\n",
        "        ELBO_batch = []\n",
        "        for batch in range(int(np.ceil(coreset_x.shape[0] / batch_size))):\n",
        "            batch_idx0 = batch * batch_size\n",
        "            batch_idx1 = batch * batch_size + batch_size\n",
        "            pred_opt.zero_grad()\n",
        "            elbo = pred_model.calculate_GVCL_ELBO(x=coreset_x[batch_idx0: batch_idx1], \n",
        "                                                  y=coreset_y[batch_idx0: batch_idx1], \n",
        "                                                  n_particles=1,\n",
        "                                                  dataset_size=coreset_x.shape[0],\n",
        "                                                  lambd=lambd, \n",
        "                                                  beta=annealing_beta_pred)\n",
        "            elbo.backward()\n",
        "            nn.utils.clip_grad_value_(pred_model.parameters(), 5)\n",
        "            pred_opt.step()\n",
        "            ELBO_batch.append(elbo.item())\n",
        "        ELBO.append(np.mean(ELBO_batch))\n",
        "    plt.plot(ELBO)\n",
        "    plt.show()\n",
        "            \n",
        "    test_x_tensor = torch.cat(Test_x)\n",
        "    test_y_tensor = torch.cat(Test_y)\n",
        "    pred_y = []\n",
        "    with torch.no_grad():\n",
        "        for batch in range(int(np.ceil(test_x_tensor.shape[0] / batch_size))):\n",
        "            batch_idx0 = batch * batch_size\n",
        "            batch_idx1 = batch * batch_size + batch_size\n",
        "            pred_logit_samples = nn.Softmax(-1)(torch.stack(pred_model.predict(test_x_tensor[batch_idx0: batch_idx1], 100), 0)).mean(0)\n",
        "            pred_y.append(pred_logit_samples.argmax(-1))\n",
        "        pred_y = torch.cat(pred_y)\n",
        "        acc = (pred_y == test_y_tensor).cpu().numpy().mean()\n",
        "    Accuracies.append(acc)\n",
        "    print(\"Task {:d}, Accuracy: {:.4f}\".format(task, acc))\n",
        "    previous_model = current_model"
      ],
      "id": "7da51f12"
    },
    {
      "cell_type": "code",
      "execution_count": null,
      "metadata": {
        "id": "NkiuwwHRuYFe",
        "colab": {
          "base_uri": "https://localhost:8080/"
        },
        "outputId": "e89e4b23-a56e-45b3-f09b-cf69321417f8"
      },
      "outputs": [
        {
          "output_type": "stream",
          "name": "stdout",
          "text": [
            "[0.9795, 0.97865, 0.9780666666666666, 0.977325, 0.97594, 0.9734333333333334, 0.9703571428571428, 0.9670625, 0.9635111111111111, 0.95902]\n"
          ]
        }
      ],
      "source": [
        "print(Accuracies)"
      ],
      "id": "NkiuwwHRuYFe"
    },
    {
      "cell_type": "code",
      "execution_count": null,
      "metadata": {
        "id": "kqBrz_mnuYGu"
      },
      "outputs": [],
      "source": [
        "from google.colab import runtime\n",
        "runtime.unassign()"
      ],
      "id": "kqBrz_mnuYGu"
    },
    {
      "cell_type": "code",
      "execution_count": null,
      "metadata": {
        "id": "I9wDBQVXuYIP"
      },
      "outputs": [],
      "source": [],
      "id": "I9wDBQVXuYIP"
    },
    {
      "cell_type": "code",
      "execution_count": null,
      "metadata": {
        "id": "7Pr9BZjNuYKA"
      },
      "outputs": [],
      "source": [],
      "id": "7Pr9BZjNuYKA"
    },
    {
      "cell_type": "code",
      "execution_count": null,
      "metadata": {
        "id": "Llw5ctwyuYLp"
      },
      "outputs": [],
      "source": [],
      "id": "Llw5ctwyuYLp"
    },
    {
      "cell_type": "code",
      "execution_count": null,
      "metadata": {
        "id": "YWZt4naZuYNT"
      },
      "outputs": [],
      "source": [],
      "id": "YWZt4naZuYNT"
    },
    {
      "cell_type": "code",
      "execution_count": null,
      "metadata": {
        "id": "c2zsstj2aSlp"
      },
      "outputs": [],
      "source": [],
      "id": "c2zsstj2aSlp"
    },
    {
      "cell_type": "code",
      "execution_count": null,
      "metadata": {
        "id": "iK4PucNDaSph"
      },
      "outputs": [],
      "source": [],
      "id": "iK4PucNDaSph"
    },
    {
      "cell_type": "code",
      "execution_count": null,
      "metadata": {
        "id": "MTODLFcWYkKp"
      },
      "outputs": [],
      "source": [],
      "id": "MTODLFcWYkKp"
    }
  ],
  "metadata": {
    "accelerator": "GPU",
    "colab": {
      "provenance": []
    },
    "gpuClass": "standard",
    "kernelspec": {
      "display_name": "Python 3 (ipykernel)",
      "language": "python",
      "name": "python3"
    },
    "language_info": {
      "codemirror_mode": {
        "name": "ipython",
        "version": 3
      },
      "file_extension": ".py",
      "mimetype": "text/x-python",
      "name": "python",
      "nbconvert_exporter": "python",
      "pygments_lexer": "ipython3",
      "version": "3.10.7"
    },
    "widgets": {
      "application/vnd.jupyter.widget-state+json": {
        "81b4fc585b9f4687a87b323c0fd71e64": {
          "model_module": "@jupyter-widgets/controls",
          "model_name": "HBoxModel",
          "model_module_version": "1.5.0",
          "state": {
            "_dom_classes": [],
            "_model_module": "@jupyter-widgets/controls",
            "_model_module_version": "1.5.0",
            "_model_name": "HBoxModel",
            "_view_count": null,
            "_view_module": "@jupyter-widgets/controls",
            "_view_module_version": "1.5.0",
            "_view_name": "HBoxView",
            "box_style": "",
            "children": [
              "IPY_MODEL_72ec61454c8b4db3b2d8ff7c0f934759",
              "IPY_MODEL_80056e780b9442879f3963681e04d6d5",
              "IPY_MODEL_a9ef8ddd43464b83a5365cd484534eec"
            ],
            "layout": "IPY_MODEL_cd00df5aa84144009c2e727792cbdf78"
          }
        },
        "72ec61454c8b4db3b2d8ff7c0f934759": {
          "model_module": "@jupyter-widgets/controls",
          "model_name": "HTMLModel",
          "model_module_version": "1.5.0",
          "state": {
            "_dom_classes": [],
            "_model_module": "@jupyter-widgets/controls",
            "_model_module_version": "1.5.0",
            "_model_name": "HTMLModel",
            "_view_count": null,
            "_view_module": "@jupyter-widgets/controls",
            "_view_module_version": "1.5.0",
            "_view_name": "HTMLView",
            "description": "",
            "description_tooltip": null,
            "layout": "IPY_MODEL_14bdf7c3d54c40a6a3778408d1870c36",
            "placeholder": "​",
            "style": "IPY_MODEL_4ded6042724c403a86184ce4d5b194ef",
            "value": "100%"
          }
        },
        "80056e780b9442879f3963681e04d6d5": {
          "model_module": "@jupyter-widgets/controls",
          "model_name": "FloatProgressModel",
          "model_module_version": "1.5.0",
          "state": {
            "_dom_classes": [],
            "_model_module": "@jupyter-widgets/controls",
            "_model_module_version": "1.5.0",
            "_model_name": "FloatProgressModel",
            "_view_count": null,
            "_view_module": "@jupyter-widgets/controls",
            "_view_module_version": "1.5.0",
            "_view_name": "ProgressView",
            "bar_style": "success",
            "description": "",
            "description_tooltip": null,
            "layout": "IPY_MODEL_9c0e5c336abb4cca985db3586d42086f",
            "max": 9912422,
            "min": 0,
            "orientation": "horizontal",
            "style": "IPY_MODEL_0620bc9566a04dd1b4fe9b859c05e5ab",
            "value": 9912422
          }
        },
        "a9ef8ddd43464b83a5365cd484534eec": {
          "model_module": "@jupyter-widgets/controls",
          "model_name": "HTMLModel",
          "model_module_version": "1.5.0",
          "state": {
            "_dom_classes": [],
            "_model_module": "@jupyter-widgets/controls",
            "_model_module_version": "1.5.0",
            "_model_name": "HTMLModel",
            "_view_count": null,
            "_view_module": "@jupyter-widgets/controls",
            "_view_module_version": "1.5.0",
            "_view_name": "HTMLView",
            "description": "",
            "description_tooltip": null,
            "layout": "IPY_MODEL_7675965be7904afd9414c5391a482105",
            "placeholder": "​",
            "style": "IPY_MODEL_8bb4e3de06a2463681baaea0e8fb638d",
            "value": " 9912422/9912422 [00:00&lt;00:00, 182279257.32it/s]"
          }
        },
        "cd00df5aa84144009c2e727792cbdf78": {
          "model_module": "@jupyter-widgets/base",
          "model_name": "LayoutModel",
          "model_module_version": "1.2.0",
          "state": {
            "_model_module": "@jupyter-widgets/base",
            "_model_module_version": "1.2.0",
            "_model_name": "LayoutModel",
            "_view_count": null,
            "_view_module": "@jupyter-widgets/base",
            "_view_module_version": "1.2.0",
            "_view_name": "LayoutView",
            "align_content": null,
            "align_items": null,
            "align_self": null,
            "border": null,
            "bottom": null,
            "display": null,
            "flex": null,
            "flex_flow": null,
            "grid_area": null,
            "grid_auto_columns": null,
            "grid_auto_flow": null,
            "grid_auto_rows": null,
            "grid_column": null,
            "grid_gap": null,
            "grid_row": null,
            "grid_template_areas": null,
            "grid_template_columns": null,
            "grid_template_rows": null,
            "height": null,
            "justify_content": null,
            "justify_items": null,
            "left": null,
            "margin": null,
            "max_height": null,
            "max_width": null,
            "min_height": null,
            "min_width": null,
            "object_fit": null,
            "object_position": null,
            "order": null,
            "overflow": null,
            "overflow_x": null,
            "overflow_y": null,
            "padding": null,
            "right": null,
            "top": null,
            "visibility": null,
            "width": null
          }
        },
        "14bdf7c3d54c40a6a3778408d1870c36": {
          "model_module": "@jupyter-widgets/base",
          "model_name": "LayoutModel",
          "model_module_version": "1.2.0",
          "state": {
            "_model_module": "@jupyter-widgets/base",
            "_model_module_version": "1.2.0",
            "_model_name": "LayoutModel",
            "_view_count": null,
            "_view_module": "@jupyter-widgets/base",
            "_view_module_version": "1.2.0",
            "_view_name": "LayoutView",
            "align_content": null,
            "align_items": null,
            "align_self": null,
            "border": null,
            "bottom": null,
            "display": null,
            "flex": null,
            "flex_flow": null,
            "grid_area": null,
            "grid_auto_columns": null,
            "grid_auto_flow": null,
            "grid_auto_rows": null,
            "grid_column": null,
            "grid_gap": null,
            "grid_row": null,
            "grid_template_areas": null,
            "grid_template_columns": null,
            "grid_template_rows": null,
            "height": null,
            "justify_content": null,
            "justify_items": null,
            "left": null,
            "margin": null,
            "max_height": null,
            "max_width": null,
            "min_height": null,
            "min_width": null,
            "object_fit": null,
            "object_position": null,
            "order": null,
            "overflow": null,
            "overflow_x": null,
            "overflow_y": null,
            "padding": null,
            "right": null,
            "top": null,
            "visibility": null,
            "width": null
          }
        },
        "4ded6042724c403a86184ce4d5b194ef": {
          "model_module": "@jupyter-widgets/controls",
          "model_name": "DescriptionStyleModel",
          "model_module_version": "1.5.0",
          "state": {
            "_model_module": "@jupyter-widgets/controls",
            "_model_module_version": "1.5.0",
            "_model_name": "DescriptionStyleModel",
            "_view_count": null,
            "_view_module": "@jupyter-widgets/base",
            "_view_module_version": "1.2.0",
            "_view_name": "StyleView",
            "description_width": ""
          }
        },
        "9c0e5c336abb4cca985db3586d42086f": {
          "model_module": "@jupyter-widgets/base",
          "model_name": "LayoutModel",
          "model_module_version": "1.2.0",
          "state": {
            "_model_module": "@jupyter-widgets/base",
            "_model_module_version": "1.2.0",
            "_model_name": "LayoutModel",
            "_view_count": null,
            "_view_module": "@jupyter-widgets/base",
            "_view_module_version": "1.2.0",
            "_view_name": "LayoutView",
            "align_content": null,
            "align_items": null,
            "align_self": null,
            "border": null,
            "bottom": null,
            "display": null,
            "flex": null,
            "flex_flow": null,
            "grid_area": null,
            "grid_auto_columns": null,
            "grid_auto_flow": null,
            "grid_auto_rows": null,
            "grid_column": null,
            "grid_gap": null,
            "grid_row": null,
            "grid_template_areas": null,
            "grid_template_columns": null,
            "grid_template_rows": null,
            "height": null,
            "justify_content": null,
            "justify_items": null,
            "left": null,
            "margin": null,
            "max_height": null,
            "max_width": null,
            "min_height": null,
            "min_width": null,
            "object_fit": null,
            "object_position": null,
            "order": null,
            "overflow": null,
            "overflow_x": null,
            "overflow_y": null,
            "padding": null,
            "right": null,
            "top": null,
            "visibility": null,
            "width": null
          }
        },
        "0620bc9566a04dd1b4fe9b859c05e5ab": {
          "model_module": "@jupyter-widgets/controls",
          "model_name": "ProgressStyleModel",
          "model_module_version": "1.5.0",
          "state": {
            "_model_module": "@jupyter-widgets/controls",
            "_model_module_version": "1.5.0",
            "_model_name": "ProgressStyleModel",
            "_view_count": null,
            "_view_module": "@jupyter-widgets/base",
            "_view_module_version": "1.2.0",
            "_view_name": "StyleView",
            "bar_color": null,
            "description_width": ""
          }
        },
        "7675965be7904afd9414c5391a482105": {
          "model_module": "@jupyter-widgets/base",
          "model_name": "LayoutModel",
          "model_module_version": "1.2.0",
          "state": {
            "_model_module": "@jupyter-widgets/base",
            "_model_module_version": "1.2.0",
            "_model_name": "LayoutModel",
            "_view_count": null,
            "_view_module": "@jupyter-widgets/base",
            "_view_module_version": "1.2.0",
            "_view_name": "LayoutView",
            "align_content": null,
            "align_items": null,
            "align_self": null,
            "border": null,
            "bottom": null,
            "display": null,
            "flex": null,
            "flex_flow": null,
            "grid_area": null,
            "grid_auto_columns": null,
            "grid_auto_flow": null,
            "grid_auto_rows": null,
            "grid_column": null,
            "grid_gap": null,
            "grid_row": null,
            "grid_template_areas": null,
            "grid_template_columns": null,
            "grid_template_rows": null,
            "height": null,
            "justify_content": null,
            "justify_items": null,
            "left": null,
            "margin": null,
            "max_height": null,
            "max_width": null,
            "min_height": null,
            "min_width": null,
            "object_fit": null,
            "object_position": null,
            "order": null,
            "overflow": null,
            "overflow_x": null,
            "overflow_y": null,
            "padding": null,
            "right": null,
            "top": null,
            "visibility": null,
            "width": null
          }
        },
        "8bb4e3de06a2463681baaea0e8fb638d": {
          "model_module": "@jupyter-widgets/controls",
          "model_name": "DescriptionStyleModel",
          "model_module_version": "1.5.0",
          "state": {
            "_model_module": "@jupyter-widgets/controls",
            "_model_module_version": "1.5.0",
            "_model_name": "DescriptionStyleModel",
            "_view_count": null,
            "_view_module": "@jupyter-widgets/base",
            "_view_module_version": "1.2.0",
            "_view_name": "StyleView",
            "description_width": ""
          }
        },
        "1e5c428ce5d1419f8ac6316fb4471a48": {
          "model_module": "@jupyter-widgets/controls",
          "model_name": "HBoxModel",
          "model_module_version": "1.5.0",
          "state": {
            "_dom_classes": [],
            "_model_module": "@jupyter-widgets/controls",
            "_model_module_version": "1.5.0",
            "_model_name": "HBoxModel",
            "_view_count": null,
            "_view_module": "@jupyter-widgets/controls",
            "_view_module_version": "1.5.0",
            "_view_name": "HBoxView",
            "box_style": "",
            "children": [
              "IPY_MODEL_f63a803e2b134fd882bd17f146a8627d",
              "IPY_MODEL_1f61e66adff04db4a4731416aaff50da",
              "IPY_MODEL_82723dc5dfc247328f8f653f8ab55ccc"
            ],
            "layout": "IPY_MODEL_65441c3ea42d4750b19348509c4fdfb2"
          }
        },
        "f63a803e2b134fd882bd17f146a8627d": {
          "model_module": "@jupyter-widgets/controls",
          "model_name": "HTMLModel",
          "model_module_version": "1.5.0",
          "state": {
            "_dom_classes": [],
            "_model_module": "@jupyter-widgets/controls",
            "_model_module_version": "1.5.0",
            "_model_name": "HTMLModel",
            "_view_count": null,
            "_view_module": "@jupyter-widgets/controls",
            "_view_module_version": "1.5.0",
            "_view_name": "HTMLView",
            "description": "",
            "description_tooltip": null,
            "layout": "IPY_MODEL_358c87346f32481cb3178f5bc0c98e30",
            "placeholder": "​",
            "style": "IPY_MODEL_6558b1cfaeda4c4f8377b056043ae7c9",
            "value": "100%"
          }
        },
        "1f61e66adff04db4a4731416aaff50da": {
          "model_module": "@jupyter-widgets/controls",
          "model_name": "FloatProgressModel",
          "model_module_version": "1.5.0",
          "state": {
            "_dom_classes": [],
            "_model_module": "@jupyter-widgets/controls",
            "_model_module_version": "1.5.0",
            "_model_name": "FloatProgressModel",
            "_view_count": null,
            "_view_module": "@jupyter-widgets/controls",
            "_view_module_version": "1.5.0",
            "_view_name": "ProgressView",
            "bar_style": "success",
            "description": "",
            "description_tooltip": null,
            "layout": "IPY_MODEL_0efa3153cc4e4910a817946d9daddd10",
            "max": 28881,
            "min": 0,
            "orientation": "horizontal",
            "style": "IPY_MODEL_086f8ec643e64e529e0e000cf2eb1c20",
            "value": 28881
          }
        },
        "82723dc5dfc247328f8f653f8ab55ccc": {
          "model_module": "@jupyter-widgets/controls",
          "model_name": "HTMLModel",
          "model_module_version": "1.5.0",
          "state": {
            "_dom_classes": [],
            "_model_module": "@jupyter-widgets/controls",
            "_model_module_version": "1.5.0",
            "_model_name": "HTMLModel",
            "_view_count": null,
            "_view_module": "@jupyter-widgets/controls",
            "_view_module_version": "1.5.0",
            "_view_name": "HTMLView",
            "description": "",
            "description_tooltip": null,
            "layout": "IPY_MODEL_76ae5daae8134a24942a57378b175588",
            "placeholder": "​",
            "style": "IPY_MODEL_9feae8abcf874c27a3765ab8847f5046",
            "value": " 28881/28881 [00:00&lt;00:00, 2198629.55it/s]"
          }
        },
        "65441c3ea42d4750b19348509c4fdfb2": {
          "model_module": "@jupyter-widgets/base",
          "model_name": "LayoutModel",
          "model_module_version": "1.2.0",
          "state": {
            "_model_module": "@jupyter-widgets/base",
            "_model_module_version": "1.2.0",
            "_model_name": "LayoutModel",
            "_view_count": null,
            "_view_module": "@jupyter-widgets/base",
            "_view_module_version": "1.2.0",
            "_view_name": "LayoutView",
            "align_content": null,
            "align_items": null,
            "align_self": null,
            "border": null,
            "bottom": null,
            "display": null,
            "flex": null,
            "flex_flow": null,
            "grid_area": null,
            "grid_auto_columns": null,
            "grid_auto_flow": null,
            "grid_auto_rows": null,
            "grid_column": null,
            "grid_gap": null,
            "grid_row": null,
            "grid_template_areas": null,
            "grid_template_columns": null,
            "grid_template_rows": null,
            "height": null,
            "justify_content": null,
            "justify_items": null,
            "left": null,
            "margin": null,
            "max_height": null,
            "max_width": null,
            "min_height": null,
            "min_width": null,
            "object_fit": null,
            "object_position": null,
            "order": null,
            "overflow": null,
            "overflow_x": null,
            "overflow_y": null,
            "padding": null,
            "right": null,
            "top": null,
            "visibility": null,
            "width": null
          }
        },
        "358c87346f32481cb3178f5bc0c98e30": {
          "model_module": "@jupyter-widgets/base",
          "model_name": "LayoutModel",
          "model_module_version": "1.2.0",
          "state": {
            "_model_module": "@jupyter-widgets/base",
            "_model_module_version": "1.2.0",
            "_model_name": "LayoutModel",
            "_view_count": null,
            "_view_module": "@jupyter-widgets/base",
            "_view_module_version": "1.2.0",
            "_view_name": "LayoutView",
            "align_content": null,
            "align_items": null,
            "align_self": null,
            "border": null,
            "bottom": null,
            "display": null,
            "flex": null,
            "flex_flow": null,
            "grid_area": null,
            "grid_auto_columns": null,
            "grid_auto_flow": null,
            "grid_auto_rows": null,
            "grid_column": null,
            "grid_gap": null,
            "grid_row": null,
            "grid_template_areas": null,
            "grid_template_columns": null,
            "grid_template_rows": null,
            "height": null,
            "justify_content": null,
            "justify_items": null,
            "left": null,
            "margin": null,
            "max_height": null,
            "max_width": null,
            "min_height": null,
            "min_width": null,
            "object_fit": null,
            "object_position": null,
            "order": null,
            "overflow": null,
            "overflow_x": null,
            "overflow_y": null,
            "padding": null,
            "right": null,
            "top": null,
            "visibility": null,
            "width": null
          }
        },
        "6558b1cfaeda4c4f8377b056043ae7c9": {
          "model_module": "@jupyter-widgets/controls",
          "model_name": "DescriptionStyleModel",
          "model_module_version": "1.5.0",
          "state": {
            "_model_module": "@jupyter-widgets/controls",
            "_model_module_version": "1.5.0",
            "_model_name": "DescriptionStyleModel",
            "_view_count": null,
            "_view_module": "@jupyter-widgets/base",
            "_view_module_version": "1.2.0",
            "_view_name": "StyleView",
            "description_width": ""
          }
        },
        "0efa3153cc4e4910a817946d9daddd10": {
          "model_module": "@jupyter-widgets/base",
          "model_name": "LayoutModel",
          "model_module_version": "1.2.0",
          "state": {
            "_model_module": "@jupyter-widgets/base",
            "_model_module_version": "1.2.0",
            "_model_name": "LayoutModel",
            "_view_count": null,
            "_view_module": "@jupyter-widgets/base",
            "_view_module_version": "1.2.0",
            "_view_name": "LayoutView",
            "align_content": null,
            "align_items": null,
            "align_self": null,
            "border": null,
            "bottom": null,
            "display": null,
            "flex": null,
            "flex_flow": null,
            "grid_area": null,
            "grid_auto_columns": null,
            "grid_auto_flow": null,
            "grid_auto_rows": null,
            "grid_column": null,
            "grid_gap": null,
            "grid_row": null,
            "grid_template_areas": null,
            "grid_template_columns": null,
            "grid_template_rows": null,
            "height": null,
            "justify_content": null,
            "justify_items": null,
            "left": null,
            "margin": null,
            "max_height": null,
            "max_width": null,
            "min_height": null,
            "min_width": null,
            "object_fit": null,
            "object_position": null,
            "order": null,
            "overflow": null,
            "overflow_x": null,
            "overflow_y": null,
            "padding": null,
            "right": null,
            "top": null,
            "visibility": null,
            "width": null
          }
        },
        "086f8ec643e64e529e0e000cf2eb1c20": {
          "model_module": "@jupyter-widgets/controls",
          "model_name": "ProgressStyleModel",
          "model_module_version": "1.5.0",
          "state": {
            "_model_module": "@jupyter-widgets/controls",
            "_model_module_version": "1.5.0",
            "_model_name": "ProgressStyleModel",
            "_view_count": null,
            "_view_module": "@jupyter-widgets/base",
            "_view_module_version": "1.2.0",
            "_view_name": "StyleView",
            "bar_color": null,
            "description_width": ""
          }
        },
        "76ae5daae8134a24942a57378b175588": {
          "model_module": "@jupyter-widgets/base",
          "model_name": "LayoutModel",
          "model_module_version": "1.2.0",
          "state": {
            "_model_module": "@jupyter-widgets/base",
            "_model_module_version": "1.2.0",
            "_model_name": "LayoutModel",
            "_view_count": null,
            "_view_module": "@jupyter-widgets/base",
            "_view_module_version": "1.2.0",
            "_view_name": "LayoutView",
            "align_content": null,
            "align_items": null,
            "align_self": null,
            "border": null,
            "bottom": null,
            "display": null,
            "flex": null,
            "flex_flow": null,
            "grid_area": null,
            "grid_auto_columns": null,
            "grid_auto_flow": null,
            "grid_auto_rows": null,
            "grid_column": null,
            "grid_gap": null,
            "grid_row": null,
            "grid_template_areas": null,
            "grid_template_columns": null,
            "grid_template_rows": null,
            "height": null,
            "justify_content": null,
            "justify_items": null,
            "left": null,
            "margin": null,
            "max_height": null,
            "max_width": null,
            "min_height": null,
            "min_width": null,
            "object_fit": null,
            "object_position": null,
            "order": null,
            "overflow": null,
            "overflow_x": null,
            "overflow_y": null,
            "padding": null,
            "right": null,
            "top": null,
            "visibility": null,
            "width": null
          }
        },
        "9feae8abcf874c27a3765ab8847f5046": {
          "model_module": "@jupyter-widgets/controls",
          "model_name": "DescriptionStyleModel",
          "model_module_version": "1.5.0",
          "state": {
            "_model_module": "@jupyter-widgets/controls",
            "_model_module_version": "1.5.0",
            "_model_name": "DescriptionStyleModel",
            "_view_count": null,
            "_view_module": "@jupyter-widgets/base",
            "_view_module_version": "1.2.0",
            "_view_name": "StyleView",
            "description_width": ""
          }
        },
        "31f7094ed4b640519efd159b8fd12cf2": {
          "model_module": "@jupyter-widgets/controls",
          "model_name": "HBoxModel",
          "model_module_version": "1.5.0",
          "state": {
            "_dom_classes": [],
            "_model_module": "@jupyter-widgets/controls",
            "_model_module_version": "1.5.0",
            "_model_name": "HBoxModel",
            "_view_count": null,
            "_view_module": "@jupyter-widgets/controls",
            "_view_module_version": "1.5.0",
            "_view_name": "HBoxView",
            "box_style": "",
            "children": [
              "IPY_MODEL_9c62b738688244bf8e89146dc09edb27",
              "IPY_MODEL_ddf8f3504fe449c48bb78c4c6dde203c",
              "IPY_MODEL_933fe55e5ee944519f13e952291c8bed"
            ],
            "layout": "IPY_MODEL_f628388c5de9472795f389082a165ef5"
          }
        },
        "9c62b738688244bf8e89146dc09edb27": {
          "model_module": "@jupyter-widgets/controls",
          "model_name": "HTMLModel",
          "model_module_version": "1.5.0",
          "state": {
            "_dom_classes": [],
            "_model_module": "@jupyter-widgets/controls",
            "_model_module_version": "1.5.0",
            "_model_name": "HTMLModel",
            "_view_count": null,
            "_view_module": "@jupyter-widgets/controls",
            "_view_module_version": "1.5.0",
            "_view_name": "HTMLView",
            "description": "",
            "description_tooltip": null,
            "layout": "IPY_MODEL_7a0abba312bf41648975dba115fbcdb9",
            "placeholder": "​",
            "style": "IPY_MODEL_7bf9211117854010964cd582f9cccdd4",
            "value": "100%"
          }
        },
        "ddf8f3504fe449c48bb78c4c6dde203c": {
          "model_module": "@jupyter-widgets/controls",
          "model_name": "FloatProgressModel",
          "model_module_version": "1.5.0",
          "state": {
            "_dom_classes": [],
            "_model_module": "@jupyter-widgets/controls",
            "_model_module_version": "1.5.0",
            "_model_name": "FloatProgressModel",
            "_view_count": null,
            "_view_module": "@jupyter-widgets/controls",
            "_view_module_version": "1.5.0",
            "_view_name": "ProgressView",
            "bar_style": "success",
            "description": "",
            "description_tooltip": null,
            "layout": "IPY_MODEL_59edb35fefb94e45bef41b926b62730b",
            "max": 1648877,
            "min": 0,
            "orientation": "horizontal",
            "style": "IPY_MODEL_1f7befd6a6ba47ff832db746ee197482",
            "value": 1648877
          }
        },
        "933fe55e5ee944519f13e952291c8bed": {
          "model_module": "@jupyter-widgets/controls",
          "model_name": "HTMLModel",
          "model_module_version": "1.5.0",
          "state": {
            "_dom_classes": [],
            "_model_module": "@jupyter-widgets/controls",
            "_model_module_version": "1.5.0",
            "_model_name": "HTMLModel",
            "_view_count": null,
            "_view_module": "@jupyter-widgets/controls",
            "_view_module_version": "1.5.0",
            "_view_name": "HTMLView",
            "description": "",
            "description_tooltip": null,
            "layout": "IPY_MODEL_6999fb881352433fa946cb36db4eb15a",
            "placeholder": "​",
            "style": "IPY_MODEL_20799ebbe1b64baaa5bcd205a3b078e4",
            "value": " 1648877/1648877 [00:00&lt;00:00, 47771908.33it/s]"
          }
        },
        "f628388c5de9472795f389082a165ef5": {
          "model_module": "@jupyter-widgets/base",
          "model_name": "LayoutModel",
          "model_module_version": "1.2.0",
          "state": {
            "_model_module": "@jupyter-widgets/base",
            "_model_module_version": "1.2.0",
            "_model_name": "LayoutModel",
            "_view_count": null,
            "_view_module": "@jupyter-widgets/base",
            "_view_module_version": "1.2.0",
            "_view_name": "LayoutView",
            "align_content": null,
            "align_items": null,
            "align_self": null,
            "border": null,
            "bottom": null,
            "display": null,
            "flex": null,
            "flex_flow": null,
            "grid_area": null,
            "grid_auto_columns": null,
            "grid_auto_flow": null,
            "grid_auto_rows": null,
            "grid_column": null,
            "grid_gap": null,
            "grid_row": null,
            "grid_template_areas": null,
            "grid_template_columns": null,
            "grid_template_rows": null,
            "height": null,
            "justify_content": null,
            "justify_items": null,
            "left": null,
            "margin": null,
            "max_height": null,
            "max_width": null,
            "min_height": null,
            "min_width": null,
            "object_fit": null,
            "object_position": null,
            "order": null,
            "overflow": null,
            "overflow_x": null,
            "overflow_y": null,
            "padding": null,
            "right": null,
            "top": null,
            "visibility": null,
            "width": null
          }
        },
        "7a0abba312bf41648975dba115fbcdb9": {
          "model_module": "@jupyter-widgets/base",
          "model_name": "LayoutModel",
          "model_module_version": "1.2.0",
          "state": {
            "_model_module": "@jupyter-widgets/base",
            "_model_module_version": "1.2.0",
            "_model_name": "LayoutModel",
            "_view_count": null,
            "_view_module": "@jupyter-widgets/base",
            "_view_module_version": "1.2.0",
            "_view_name": "LayoutView",
            "align_content": null,
            "align_items": null,
            "align_self": null,
            "border": null,
            "bottom": null,
            "display": null,
            "flex": null,
            "flex_flow": null,
            "grid_area": null,
            "grid_auto_columns": null,
            "grid_auto_flow": null,
            "grid_auto_rows": null,
            "grid_column": null,
            "grid_gap": null,
            "grid_row": null,
            "grid_template_areas": null,
            "grid_template_columns": null,
            "grid_template_rows": null,
            "height": null,
            "justify_content": null,
            "justify_items": null,
            "left": null,
            "margin": null,
            "max_height": null,
            "max_width": null,
            "min_height": null,
            "min_width": null,
            "object_fit": null,
            "object_position": null,
            "order": null,
            "overflow": null,
            "overflow_x": null,
            "overflow_y": null,
            "padding": null,
            "right": null,
            "top": null,
            "visibility": null,
            "width": null
          }
        },
        "7bf9211117854010964cd582f9cccdd4": {
          "model_module": "@jupyter-widgets/controls",
          "model_name": "DescriptionStyleModel",
          "model_module_version": "1.5.0",
          "state": {
            "_model_module": "@jupyter-widgets/controls",
            "_model_module_version": "1.5.0",
            "_model_name": "DescriptionStyleModel",
            "_view_count": null,
            "_view_module": "@jupyter-widgets/base",
            "_view_module_version": "1.2.0",
            "_view_name": "StyleView",
            "description_width": ""
          }
        },
        "59edb35fefb94e45bef41b926b62730b": {
          "model_module": "@jupyter-widgets/base",
          "model_name": "LayoutModel",
          "model_module_version": "1.2.0",
          "state": {
            "_model_module": "@jupyter-widgets/base",
            "_model_module_version": "1.2.0",
            "_model_name": "LayoutModel",
            "_view_count": null,
            "_view_module": "@jupyter-widgets/base",
            "_view_module_version": "1.2.0",
            "_view_name": "LayoutView",
            "align_content": null,
            "align_items": null,
            "align_self": null,
            "border": null,
            "bottom": null,
            "display": null,
            "flex": null,
            "flex_flow": null,
            "grid_area": null,
            "grid_auto_columns": null,
            "grid_auto_flow": null,
            "grid_auto_rows": null,
            "grid_column": null,
            "grid_gap": null,
            "grid_row": null,
            "grid_template_areas": null,
            "grid_template_columns": null,
            "grid_template_rows": null,
            "height": null,
            "justify_content": null,
            "justify_items": null,
            "left": null,
            "margin": null,
            "max_height": null,
            "max_width": null,
            "min_height": null,
            "min_width": null,
            "object_fit": null,
            "object_position": null,
            "order": null,
            "overflow": null,
            "overflow_x": null,
            "overflow_y": null,
            "padding": null,
            "right": null,
            "top": null,
            "visibility": null,
            "width": null
          }
        },
        "1f7befd6a6ba47ff832db746ee197482": {
          "model_module": "@jupyter-widgets/controls",
          "model_name": "ProgressStyleModel",
          "model_module_version": "1.5.0",
          "state": {
            "_model_module": "@jupyter-widgets/controls",
            "_model_module_version": "1.5.0",
            "_model_name": "ProgressStyleModel",
            "_view_count": null,
            "_view_module": "@jupyter-widgets/base",
            "_view_module_version": "1.2.0",
            "_view_name": "StyleView",
            "bar_color": null,
            "description_width": ""
          }
        },
        "6999fb881352433fa946cb36db4eb15a": {
          "model_module": "@jupyter-widgets/base",
          "model_name": "LayoutModel",
          "model_module_version": "1.2.0",
          "state": {
            "_model_module": "@jupyter-widgets/base",
            "_model_module_version": "1.2.0",
            "_model_name": "LayoutModel",
            "_view_count": null,
            "_view_module": "@jupyter-widgets/base",
            "_view_module_version": "1.2.0",
            "_view_name": "LayoutView",
            "align_content": null,
            "align_items": null,
            "align_self": null,
            "border": null,
            "bottom": null,
            "display": null,
            "flex": null,
            "flex_flow": null,
            "grid_area": null,
            "grid_auto_columns": null,
            "grid_auto_flow": null,
            "grid_auto_rows": null,
            "grid_column": null,
            "grid_gap": null,
            "grid_row": null,
            "grid_template_areas": null,
            "grid_template_columns": null,
            "grid_template_rows": null,
            "height": null,
            "justify_content": null,
            "justify_items": null,
            "left": null,
            "margin": null,
            "max_height": null,
            "max_width": null,
            "min_height": null,
            "min_width": null,
            "object_fit": null,
            "object_position": null,
            "order": null,
            "overflow": null,
            "overflow_x": null,
            "overflow_y": null,
            "padding": null,
            "right": null,
            "top": null,
            "visibility": null,
            "width": null
          }
        },
        "20799ebbe1b64baaa5bcd205a3b078e4": {
          "model_module": "@jupyter-widgets/controls",
          "model_name": "DescriptionStyleModel",
          "model_module_version": "1.5.0",
          "state": {
            "_model_module": "@jupyter-widgets/controls",
            "_model_module_version": "1.5.0",
            "_model_name": "DescriptionStyleModel",
            "_view_count": null,
            "_view_module": "@jupyter-widgets/base",
            "_view_module_version": "1.2.0",
            "_view_name": "StyleView",
            "description_width": ""
          }
        },
        "e0801bb080d94d7f86f33ec985251361": {
          "model_module": "@jupyter-widgets/controls",
          "model_name": "HBoxModel",
          "model_module_version": "1.5.0",
          "state": {
            "_dom_classes": [],
            "_model_module": "@jupyter-widgets/controls",
            "_model_module_version": "1.5.0",
            "_model_name": "HBoxModel",
            "_view_count": null,
            "_view_module": "@jupyter-widgets/controls",
            "_view_module_version": "1.5.0",
            "_view_name": "HBoxView",
            "box_style": "",
            "children": [
              "IPY_MODEL_521b95885a3e40d1aadfb711be868d04",
              "IPY_MODEL_b7a750d95bd44676bcc2718adde12e25",
              "IPY_MODEL_3f511daf6a734575a0d13154e321e520"
            ],
            "layout": "IPY_MODEL_f70dbdcee4084843928e8bdcb911dc2d"
          }
        },
        "521b95885a3e40d1aadfb711be868d04": {
          "model_module": "@jupyter-widgets/controls",
          "model_name": "HTMLModel",
          "model_module_version": "1.5.0",
          "state": {
            "_dom_classes": [],
            "_model_module": "@jupyter-widgets/controls",
            "_model_module_version": "1.5.0",
            "_model_name": "HTMLModel",
            "_view_count": null,
            "_view_module": "@jupyter-widgets/controls",
            "_view_module_version": "1.5.0",
            "_view_name": "HTMLView",
            "description": "",
            "description_tooltip": null,
            "layout": "IPY_MODEL_9ceb49db25f040eb9b289becd0112e26",
            "placeholder": "​",
            "style": "IPY_MODEL_5d056f891bb14da590de1530614af474",
            "value": "100%"
          }
        },
        "b7a750d95bd44676bcc2718adde12e25": {
          "model_module": "@jupyter-widgets/controls",
          "model_name": "FloatProgressModel",
          "model_module_version": "1.5.0",
          "state": {
            "_dom_classes": [],
            "_model_module": "@jupyter-widgets/controls",
            "_model_module_version": "1.5.0",
            "_model_name": "FloatProgressModel",
            "_view_count": null,
            "_view_module": "@jupyter-widgets/controls",
            "_view_module_version": "1.5.0",
            "_view_name": "ProgressView",
            "bar_style": "success",
            "description": "",
            "description_tooltip": null,
            "layout": "IPY_MODEL_18870898ec6444c1833677c4775fe32b",
            "max": 4542,
            "min": 0,
            "orientation": "horizontal",
            "style": "IPY_MODEL_2a5b21315df94d9d9ce991115947c7d0",
            "value": 4542
          }
        },
        "3f511daf6a734575a0d13154e321e520": {
          "model_module": "@jupyter-widgets/controls",
          "model_name": "HTMLModel",
          "model_module_version": "1.5.0",
          "state": {
            "_dom_classes": [],
            "_model_module": "@jupyter-widgets/controls",
            "_model_module_version": "1.5.0",
            "_model_name": "HTMLModel",
            "_view_count": null,
            "_view_module": "@jupyter-widgets/controls",
            "_view_module_version": "1.5.0",
            "_view_name": "HTMLView",
            "description": "",
            "description_tooltip": null,
            "layout": "IPY_MODEL_383448ada84845e495c53587e8c42f92",
            "placeholder": "​",
            "style": "IPY_MODEL_202c72092ea841e0b18ac5fcb1ffef7a",
            "value": " 4542/4542 [00:00&lt;00:00, 195522.39it/s]"
          }
        },
        "f70dbdcee4084843928e8bdcb911dc2d": {
          "model_module": "@jupyter-widgets/base",
          "model_name": "LayoutModel",
          "model_module_version": "1.2.0",
          "state": {
            "_model_module": "@jupyter-widgets/base",
            "_model_module_version": "1.2.0",
            "_model_name": "LayoutModel",
            "_view_count": null,
            "_view_module": "@jupyter-widgets/base",
            "_view_module_version": "1.2.0",
            "_view_name": "LayoutView",
            "align_content": null,
            "align_items": null,
            "align_self": null,
            "border": null,
            "bottom": null,
            "display": null,
            "flex": null,
            "flex_flow": null,
            "grid_area": null,
            "grid_auto_columns": null,
            "grid_auto_flow": null,
            "grid_auto_rows": null,
            "grid_column": null,
            "grid_gap": null,
            "grid_row": null,
            "grid_template_areas": null,
            "grid_template_columns": null,
            "grid_template_rows": null,
            "height": null,
            "justify_content": null,
            "justify_items": null,
            "left": null,
            "margin": null,
            "max_height": null,
            "max_width": null,
            "min_height": null,
            "min_width": null,
            "object_fit": null,
            "object_position": null,
            "order": null,
            "overflow": null,
            "overflow_x": null,
            "overflow_y": null,
            "padding": null,
            "right": null,
            "top": null,
            "visibility": null,
            "width": null
          }
        },
        "9ceb49db25f040eb9b289becd0112e26": {
          "model_module": "@jupyter-widgets/base",
          "model_name": "LayoutModel",
          "model_module_version": "1.2.0",
          "state": {
            "_model_module": "@jupyter-widgets/base",
            "_model_module_version": "1.2.0",
            "_model_name": "LayoutModel",
            "_view_count": null,
            "_view_module": "@jupyter-widgets/base",
            "_view_module_version": "1.2.0",
            "_view_name": "LayoutView",
            "align_content": null,
            "align_items": null,
            "align_self": null,
            "border": null,
            "bottom": null,
            "display": null,
            "flex": null,
            "flex_flow": null,
            "grid_area": null,
            "grid_auto_columns": null,
            "grid_auto_flow": null,
            "grid_auto_rows": null,
            "grid_column": null,
            "grid_gap": null,
            "grid_row": null,
            "grid_template_areas": null,
            "grid_template_columns": null,
            "grid_template_rows": null,
            "height": null,
            "justify_content": null,
            "justify_items": null,
            "left": null,
            "margin": null,
            "max_height": null,
            "max_width": null,
            "min_height": null,
            "min_width": null,
            "object_fit": null,
            "object_position": null,
            "order": null,
            "overflow": null,
            "overflow_x": null,
            "overflow_y": null,
            "padding": null,
            "right": null,
            "top": null,
            "visibility": null,
            "width": null
          }
        },
        "5d056f891bb14da590de1530614af474": {
          "model_module": "@jupyter-widgets/controls",
          "model_name": "DescriptionStyleModel",
          "model_module_version": "1.5.0",
          "state": {
            "_model_module": "@jupyter-widgets/controls",
            "_model_module_version": "1.5.0",
            "_model_name": "DescriptionStyleModel",
            "_view_count": null,
            "_view_module": "@jupyter-widgets/base",
            "_view_module_version": "1.2.0",
            "_view_name": "StyleView",
            "description_width": ""
          }
        },
        "18870898ec6444c1833677c4775fe32b": {
          "model_module": "@jupyter-widgets/base",
          "model_name": "LayoutModel",
          "model_module_version": "1.2.0",
          "state": {
            "_model_module": "@jupyter-widgets/base",
            "_model_module_version": "1.2.0",
            "_model_name": "LayoutModel",
            "_view_count": null,
            "_view_module": "@jupyter-widgets/base",
            "_view_module_version": "1.2.0",
            "_view_name": "LayoutView",
            "align_content": null,
            "align_items": null,
            "align_self": null,
            "border": null,
            "bottom": null,
            "display": null,
            "flex": null,
            "flex_flow": null,
            "grid_area": null,
            "grid_auto_columns": null,
            "grid_auto_flow": null,
            "grid_auto_rows": null,
            "grid_column": null,
            "grid_gap": null,
            "grid_row": null,
            "grid_template_areas": null,
            "grid_template_columns": null,
            "grid_template_rows": null,
            "height": null,
            "justify_content": null,
            "justify_items": null,
            "left": null,
            "margin": null,
            "max_height": null,
            "max_width": null,
            "min_height": null,
            "min_width": null,
            "object_fit": null,
            "object_position": null,
            "order": null,
            "overflow": null,
            "overflow_x": null,
            "overflow_y": null,
            "padding": null,
            "right": null,
            "top": null,
            "visibility": null,
            "width": null
          }
        },
        "2a5b21315df94d9d9ce991115947c7d0": {
          "model_module": "@jupyter-widgets/controls",
          "model_name": "ProgressStyleModel",
          "model_module_version": "1.5.0",
          "state": {
            "_model_module": "@jupyter-widgets/controls",
            "_model_module_version": "1.5.0",
            "_model_name": "ProgressStyleModel",
            "_view_count": null,
            "_view_module": "@jupyter-widgets/base",
            "_view_module_version": "1.2.0",
            "_view_name": "StyleView",
            "bar_color": null,
            "description_width": ""
          }
        },
        "383448ada84845e495c53587e8c42f92": {
          "model_module": "@jupyter-widgets/base",
          "model_name": "LayoutModel",
          "model_module_version": "1.2.0",
          "state": {
            "_model_module": "@jupyter-widgets/base",
            "_model_module_version": "1.2.0",
            "_model_name": "LayoutModel",
            "_view_count": null,
            "_view_module": "@jupyter-widgets/base",
            "_view_module_version": "1.2.0",
            "_view_name": "LayoutView",
            "align_content": null,
            "align_items": null,
            "align_self": null,
            "border": null,
            "bottom": null,
            "display": null,
            "flex": null,
            "flex_flow": null,
            "grid_area": null,
            "grid_auto_columns": null,
            "grid_auto_flow": null,
            "grid_auto_rows": null,
            "grid_column": null,
            "grid_gap": null,
            "grid_row": null,
            "grid_template_areas": null,
            "grid_template_columns": null,
            "grid_template_rows": null,
            "height": null,
            "justify_content": null,
            "justify_items": null,
            "left": null,
            "margin": null,
            "max_height": null,
            "max_width": null,
            "min_height": null,
            "min_width": null,
            "object_fit": null,
            "object_position": null,
            "order": null,
            "overflow": null,
            "overflow_x": null,
            "overflow_y": null,
            "padding": null,
            "right": null,
            "top": null,
            "visibility": null,
            "width": null
          }
        },
        "202c72092ea841e0b18ac5fcb1ffef7a": {
          "model_module": "@jupyter-widgets/controls",
          "model_name": "DescriptionStyleModel",
          "model_module_version": "1.5.0",
          "state": {
            "_model_module": "@jupyter-widgets/controls",
            "_model_module_version": "1.5.0",
            "_model_name": "DescriptionStyleModel",
            "_view_count": null,
            "_view_module": "@jupyter-widgets/base",
            "_view_module_version": "1.2.0",
            "_view_name": "StyleView",
            "description_width": ""
          }
        }
      }
    }
  },
  "nbformat": 4,
  "nbformat_minor": 5
}